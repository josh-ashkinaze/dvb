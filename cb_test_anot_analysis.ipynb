{
 "cells": [
  {
   "cell_type": "code",
   "execution_count": 54,
   "id": "initial_id",
   "metadata": {
    "collapsed": true,
    "ExecuteTime": {
     "end_time": "2025-05-05T00:19:03.160363Z",
     "start_time": "2025-05-05T00:19:03.036589Z"
    }
   },
   "outputs": [
    {
     "name": "stdout",
     "output_type": "stream",
     "text": [
      "M = 0.91, SD = 0.29, Mdn = 1.00\n",
      "Mode = 1.00\n",
      "95% CI [0.86, 0.94]\n",
      "{'mean': np.float64(0.91), 'median': np.float64(1.0), 'sd': np.float64(0.29), 'mode': np.int64(1), 'ci': (0.86, 0.94)}\n",
      "\n",
      "('1 (91.0%; n=182), 0 (7.5%; n=15), Unsure (1.5%; n=3)', {1: {'count': 182, 'percentage': 91.0, 'percentage_rounded': 91.0}, 0: {'count': 15, 'percentage': 7.5, 'percentage_rounded': 7.5}, 'Unsure': {'count': 3, 'percentage': 1.5, 'percentage_rounded': 1.5}})\n",
      "\n",
      "Binomial test: BinomTestResult(k=182, n=200, alternative='two-sided', statistic=0.91, pvalue=2.567529911241726e-35)\n"
     ]
    }
   ],
   "source": [
    "import numpy as np\n",
    "\n",
    "from helpers import make_aesthetic, array_stats, categorical_stats\n",
    "\n",
    "import pandas as pd\n",
    "from scipy.stats import binomtest\n",
    "import seaborn as sns\n",
    "import matplotlib.pyplot as plt\n",
    "from stargazer.stargazer import Stargazer\n",
    "\n",
    "mypal = make_aesthetic()\n",
    "\n",
    "\n",
    "def clean_choice(x):\n",
    "    # because scale is -2, -1, 0, 1, 2 and qualtrics is 1, 2, 3, 4, 5\n",
    "    # So this function turns metric into -2 to 2 in direction of <deep --> shallow> \n",
    "    x = str(x)\n",
    "    if \"Option A\" in x:\n",
    "        return \"A\"\n",
    "    elif \"Option B\" in x:\n",
    "        return \"B\"\n",
    "    elif \"Unsure\" in x:\n",
    "        return \"U\"\n",
    "    else:\n",
    "        return np.nan\n",
    "\n",
    "\n",
    "\n",
    "df = pd.read_csv('data/raw/dvb_cb_test.csv')\n",
    "\n",
    "data = []\n",
    "for idx, row in df.iterrows():\n",
    "\n",
    "    # participant data\n",
    "    duration = row['Duration (in seconds)']\n",
    "    pid = row['pid']\n",
    "    educ = row['educ']\n",
    "    income = row['income']\n",
    "    gender = row['gender']\n",
    "    age = row['Age']\n",
    "    ai_usage = row['ai_usage']\n",
    "\n",
    "    participant_data = {\n",
    "        \"duration\": duration,\n",
    "        \"pid\": pid,\n",
    "        \"educ\": educ,\n",
    "        \"income\": income,\n",
    "        \"gender\": gender,\n",
    "        \"age\": age,\n",
    "        \"ai_usage\": ai_usage,\n",
    "    }\n",
    "\n",
    "    llm_shallow_cols = [x for x in df.columns if \"annot_lm_two\" in x]\n",
    "    for col in llm_shallow_cols:\n",
    "        data_pt = {\n",
    "            \"raw_col\": col,\n",
    "            \"loop_merge\": int(col.split(\"_\")[0]),\n",
    "            \"answer_raw\": row[col],\n",
    "            \"answer\": clean_choice(row[col]),\n",
    "        }\n",
    "        data_pt.update(participant_data)\n",
    "        data.append(data_pt)\n",
    "\n",
    "\n",
    "df = pd.DataFrame(data)\n",
    "df = df.dropna(subset=['answer'])\n",
    "\n",
    "meta_df = pd.read_csv('data/clean/qualtrics_loop_merge_completion_annot_output_random_sample.csv')\n",
    "df = pd.merge(df, meta_df, how='left', left_on=['loop_merge'], right_on=['idx'])\n",
    "\n",
    "df['correct_unsure_wrong'] = (df['answer'].str.strip() == df['choice_opt_str'].str.strip()).astype(int)\n",
    "\n",
    "df['correct_unsure_seperate'] = df['correct_unsure_wrong'].copy()\n",
    "df['correct_unsure_seperate'] = df['correct_unsure_seperate'].where(df['answer'] != \"U\", \"Unsure\")\n",
    "\n",
    "print(array_stats(df['correct_unsure_wrong'].values, include_ci=\n",
    "    True))\n",
    "print()\n",
    "print(categorical_stats(df['correct_unsure_seperate'].values))\n",
    "\n",
    "print()\n",
    "k = len(df.query(\"correct_unsure_wrong==1\"))\n",
    "n = len(df)\n",
    "p = 0.5\n",
    "\n",
    "print(f\"Binomial test: {binomtest(k, n, p)}\")\n",
    "\n"
   ]
  },
  {
   "cell_type": "code",
   "outputs": [
    {
     "data": {
      "text/plain": "answer\nB    0.530\nA    0.455\nU    0.015\nName: proportion, dtype: float64"
     },
     "execution_count": 57,
     "metadata": {},
     "output_type": "execute_result"
    }
   ],
   "source": [
    "df['answer'].value_counts(normalize=True)"
   ],
   "metadata": {
    "collapsed": false,
    "ExecuteTime": {
     "end_time": "2025-05-05T00:36:23.037275Z",
     "start_time": "2025-05-05T00:36:23.019820Z"
    }
   },
   "id": "c26166123269e5c8",
   "execution_count": 57
  },
  {
   "cell_type": "code",
   "outputs": [],
   "source": [
    "df = pd.read_csv('data/raw/dvb_cb_test.csv')\n"
   ],
   "metadata": {
    "collapsed": false,
    "ExecuteTime": {
     "end_time": "2025-05-05T00:15:44.471810Z",
     "start_time": "2025-05-05T00:15:44.445605Z"
    }
   },
   "id": "ad5411adcf8a2ed5",
   "execution_count": 44
  },
  {
   "cell_type": "code",
   "outputs": [
    {
     "data": {
      "text/plain": "400"
     },
     "execution_count": 47,
     "metadata": {},
     "output_type": "execute_result"
    }
   ],
   "source": [
    "len(df)"
   ],
   "metadata": {
    "collapsed": false,
    "ExecuteTime": {
     "end_time": "2025-05-05T00:16:15.246217Z",
     "start_time": "2025-05-05T00:16:15.239310Z"
    }
   },
   "id": "8ea7acebf4015902",
   "execution_count": 47
  },
  {
   "cell_type": "code",
   "outputs": [],
   "source": [],
   "metadata": {
    "collapsed": false
   },
   "id": "cb2a2bb7fddabe70"
  }
 ],
 "metadata": {
  "kernelspec": {
   "display_name": "Python 3",
   "language": "python",
   "name": "python3"
  },
  "language_info": {
   "codemirror_mode": {
    "name": "ipython",
    "version": 2
   },
   "file_extension": ".py",
   "mimetype": "text/x-python",
   "name": "python",
   "nbconvert_exporter": "python",
   "pygments_lexer": "ipython2",
   "version": "2.7.6"
  }
 },
 "nbformat": 4,
 "nbformat_minor": 5
}

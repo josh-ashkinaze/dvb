{
 "cells": [
  {
   "cell_type": "markdown",
   "id": "e887e875b7cd554f",
   "metadata": {
    "collapsed": false
   },
   "source": [
    "# Step 1: Cluster YC startups into defined industries\n",
    "\n",
    "1. Read in the tags from YC startups\n",
    "2. Filter for tags related to domains (not just the tech)\n",
    "3. Cluster into high level categories\n",
    "4. Select top8 clusters by average count"
   ]
  },
  {
   "cell_type": "code",
   "execution_count": 2,
   "id": "cef27c9d439bd6c3",
   "metadata": {
    "collapsed": false,
    "ExecuteTime": {
     "end_time": "2025-04-08T14:05:08.324952Z",
     "start_time": "2025-04-08T14:05:08.135064Z"
    }
   },
   "outputs": [
    {
     "name": "stdout",
     "output_type": "stream",
     "text": [
      "n unique tags 85\n",
      "n total tags 431\n",
      "length of valid tags 40\n",
      "Subset validated: nothing missing or extra.\n",
      "All clusters validated: nothing missing or extra.\n"
     ]
    },
    {
     "name": "stderr",
     "output_type": "stream",
     "text": [
      "/var/folders/kj/8p_kqzx533b8vldhm5sdjfc00000gn/T/ipykernel_68709/3968105846.py:86: SettingWithCopyWarning: \n",
      "A value is trying to be set on a copy of a slice from a DataFrame.\n",
      "Try using .loc[row_indexer,col_indexer] = value instead\n",
      "\n",
      "See the caveats in the documentation: https://pandas.pydata.org/pandas-docs/stable/user_guide/indexing.html#returning-a-view-versus-a-copy\n",
      "  dfv['cluster'] = dfv['tag'].apply(assign_cluster)\n"
     ]
    },
    {
     "data": {
      "text/plain": "            cluster                                                tag  count\n1          Commerce  real-estate, retail, e-commerce, marketing, sa...     18\n3  Customer Service  customer-support, customer-service, customer-s...     13\n5           Finance      fintech, finance, consumer-finance, insurance     11\n9      Productivity             productivity, remote-work, note-taking     10\n2     Communication  email, sms, collaboration, social-media, socia...      8\n6        Healthcare  telehealth, healthcare, healthcare-it, health-...      7\n8             Legal                       legaltech, legal, compliance      7\n4         Education                    ai-enhanced-learning, education      5",
      "text/html": "<div>\n<style scoped>\n    .dataframe tbody tr th:only-of-type {\n        vertical-align: middle;\n    }\n\n    .dataframe tbody tr th {\n        vertical-align: top;\n    }\n\n    .dataframe thead th {\n        text-align: right;\n    }\n</style>\n<table border=\"1\" class=\"dataframe\">\n  <thead>\n    <tr style=\"text-align: right;\">\n      <th></th>\n      <th>cluster</th>\n      <th>tag</th>\n      <th>count</th>\n    </tr>\n  </thead>\n  <tbody>\n    <tr>\n      <th>1</th>\n      <td>Commerce</td>\n      <td>real-estate, retail, e-commerce, marketing, sa...</td>\n      <td>18</td>\n    </tr>\n    <tr>\n      <th>3</th>\n      <td>Customer Service</td>\n      <td>customer-support, customer-service, customer-s...</td>\n      <td>13</td>\n    </tr>\n    <tr>\n      <th>5</th>\n      <td>Finance</td>\n      <td>fintech, finance, consumer-finance, insurance</td>\n      <td>11</td>\n    </tr>\n    <tr>\n      <th>9</th>\n      <td>Productivity</td>\n      <td>productivity, remote-work, note-taking</td>\n      <td>10</td>\n    </tr>\n    <tr>\n      <th>2</th>\n      <td>Communication</td>\n      <td>email, sms, collaboration, social-media, socia...</td>\n      <td>8</td>\n    </tr>\n    <tr>\n      <th>6</th>\n      <td>Healthcare</td>\n      <td>telehealth, healthcare, healthcare-it, health-...</td>\n      <td>7</td>\n    </tr>\n    <tr>\n      <th>8</th>\n      <td>Legal</td>\n      <td>legaltech, legal, compliance</td>\n      <td>7</td>\n    </tr>\n    <tr>\n      <th>4</th>\n      <td>Education</td>\n      <td>ai-enhanced-learning, education</td>\n      <td>5</td>\n    </tr>\n  </tbody>\n</table>\n</div>"
     },
     "metadata": {},
     "output_type": "display_data"
    },
    {
     "name": "stdout",
     "output_type": "stream",
     "text": [
      "Checking at end of cell\n",
      "All clusters validated: nothing missing or extra.\n",
      "Subset validated: nothing missing or extra.\n"
     ]
    }
   ],
   "source": [
    "import pandas as pd\n",
    "\n",
    "def validate_clusters(valid, clusters):\n",
    "    \"\"\"\n",
    "    Ensures:\n",
    "      1. Every item in `valid` is captured in at least one of `clusters`.\n",
    "      2. No cluster contains tags that aren't in `valid`.\n",
    "    \"\"\"\n",
    "    valid_set = set(valid)\n",
    "    cluster_tags = set()\n",
    "\n",
    "    for cluster_name, tags in clusters.items():\n",
    "        cluster_tags.update(tags)\n",
    "\n",
    "        extra_tags = set(tags) - valid_set\n",
    "        if extra_tags:\n",
    "            print(f\"BAD: Cluster '{cluster_name}' has tags not in 'valid': {extra_tags}\")\n",
    "            raise ValueError\n",
    "\n",
    "    missing_tags = valid_set - cluster_tags\n",
    "    if missing_tags:\n",
    "        print(f\"BAD: These 'valid' tags are missing from clusters: {missing_tags}\")\n",
    "        raise ValueError\n",
    "\n",
    "    if not missing_tags and not any(set(tags) - valid_set for tags in clusters.values()):\n",
    "        print(\"All clusters validated: nothing missing or extra.\")\n",
    "\n",
    "\n",
    "def validate_is_subset(small_set, big_set):\n",
    "    \"\"\"\n",
    "    Ensures that `small_set` is a subset of `big_set`.\n",
    "    \"\"\"\n",
    "    if not small_set.issubset(big_set):\n",
    "        print(f\"BAD: {small_set} is not a subset of {big_set}\") \n",
    "        raise ValueError\n",
    "    else:\n",
    "        print(\"Subset validated: nothing missing or extra.\")\n",
    "        \n",
    "        \n",
    "\n",
    "def assign_cluster(tag):\n",
    "    for cluster_name, cluster_tags in clusters.items():\n",
    "        if tag in cluster_tags:\n",
    "            return cluster_name\n",
    "    return 'other'\n",
    "\n",
    "        \n",
    "json_file = \"data/raw/yc_ai_assistant_tags.jsonl\"\n",
    "\n",
    "df = pd.read_json(\"data/raw/yc_ai_assistant_tags.jsonl\", lines=True)\n",
    "\n",
    "\n",
    "print(\"n unique tags\", len(df))\n",
    "print(\"n total tags\", df['count'].sum())\n",
    "\n",
    "all_tags = df['tag'].unique().tolist()\n",
    "\n",
    "# Valid means \n",
    "# (A) a domain application not just underlying tech. For example, 'no-code' or 'data-viz' are excluded. \n",
    "# (B) Consumer-facing domain application\n",
    "\n",
    "\n",
    "valid = ['ai-enhanced-learning', 'automotive', 'collaboration', 'compliance','consumer-finance',  'creator-economy', 'customer-service', 'customer-success', 'customer-support', 'design', 'design-tools', 'digital-health', 'e-commerce', 'education', 'email', 'entertainment', 'finance', 'fintech',  'health-tech', 'healthcare', 'healthcare-it', 'hr-tech', 'insurance', 'legal', 'legaltech', 'market-research', 'marketing', 'marketplace',  'note-taking', 'productivity',  'real-estate', 'recruiting',  'remote-work', 'retail',  'sales', 'sms', 'social-media', 'social-network', 'telehealth', 'travel']\n",
    "\n",
    "print(\"length of valid tags\", len(valid))\n",
    "\n",
    "validate_is_subset(set(valid), set(all_tags))\n",
    "\n",
    "clusters = {\n",
    "    'hr': ['recruiting', 'hr-tech'],\n",
    "    'legal': ['legal', 'legaltech', 'compliance'],\n",
    "    'finance': ['fintech', 'finance', 'consumer-finance', 'insurance'],\n",
    "    'commerce': ['retail', 'e-commerce', 'sales', 'marketing', 'market-research', 'real-estate','marketplace'],\n",
    "    'communication': ['email', 'sms', 'social-network', 'collaboration', 'social-media'],\n",
    "    'healthcare': ['telehealth', 'healthcare', 'healthcare-it', 'health-tech', 'digital-health'],\n",
    "    'productivity': ['productivity', 'note-taking', 'remote-work'],\n",
    "    'customer_service': ['customer-support', 'customer-success', 'customer-service'],\n",
    "    'education': ['ai-enhanced-learning', 'education'],\n",
    "    'arts_and_entertainment': ['creator-economy', 'entertainment', 'design-tools', 'design'],\n",
    "    'transportation': [ 'automotive',  'travel']\n",
    "}\n",
    "\n",
    "validate_clusters(valid, clusters)\n",
    "\n",
    "dfv = df[df['tag'].isin(valid)]\n",
    "dfv['cluster'] = dfv['tag'].apply(assign_cluster)\n",
    "top8 = dfv.groupby('cluster')['count'].sum().sort_values(ascending=False).head(8).index.tolist()\n",
    "\n",
    "# Latex table\n",
    "#############################\n",
    "grouped = dfv.groupby('cluster')['tag'].apply(lambda x: ', '.join(x)).reset_index()\n",
    "cluster_counts = dfv.groupby('cluster')['count'].sum().reset_index()\n",
    "grouped = pd.merge(grouped, cluster_counts, on='cluster')\n",
    "\n",
    "# filter above 5 counts\n",
    "grouped = grouped.query(\"count >= 5\")\n",
    "\n",
    "grouped['cluster'] = grouped['cluster'].apply(lambda x: x.replace('_', ' ').title())\n",
    "grouped = grouped.sort_values(by='count', ascending=False)\n",
    "display(grouped)\n",
    "grouped.to_latex(\"tables/clusters.tex\", \n",
    "                 index=False,\n",
    "                 escape=False, \n",
    "                 caption=\"We retrieved a list of April's top 100 AI Assistant startups backed by Y Combinator. Each startup had tags. We clustered tags. Then we selected the number of clusters (8) where the sum of tag counts was at least 5. Count is the total number of startups in each cluster. Tags are separated by commas.\",\n",
    "                 label=\"tab:clustersyc\")\n",
    "\n",
    "\n",
    "# check one more time everything good\n",
    "print(\"Checking at end of cell\")\n",
    "validate_clusters(valid, clusters)\n",
    "validate_is_subset(set(valid), set(all_tags))\n"
   ]
  },
  {
   "cell_type": "markdown",
   "id": "3110def934aa233e",
   "metadata": {
    "collapsed": false,
    "editable": true,
    "slideshow": {
     "slide_type": ""
    },
    "tags": []
   },
   "source": [
    "# Step 2: Read in ONET data\n",
    "\n",
    "SOC_Structure is from `https://www.onetcenter.org/taxonomy/2019/structure.html`"
   ]
  },
  {
   "cell_type": "code",
   "execution_count": 3,
   "id": "174be99fc3790f4d",
   "metadata": {
    "collapsed": false,
    "ExecuteTime": {
     "end_time": "2025-04-08T14:05:10.574170Z",
     "start_time": "2025-04-08T14:05:10.535321Z"
    }
   },
   "outputs": [
    {
     "name": "stdout",
     "output_type": "stream",
     "text": [
      "Index(['major_group', 'minor_group', 'broad_occupation', 'detailed_occupation',\n",
      "       'detailed_onet_soc', 'soc_or_onet_soc_2019_title'],\n",
      "      dtype='object')\n",
      "17-0000: Architecture and Engineering Occupations\n",
      "27-0000: Arts, Design, Entertainment, Sports, and Media Occupations\n",
      "37-0000: Building and Grounds Cleaning and Maintenance Occupations\n",
      "13-0000: Business and Financial Operations Occupations\n",
      "21-0000: Community and Social Service Occupations\n",
      "15-0000: Computer and Mathematical Occupations\n",
      "47-0000: Construction and Extraction Occupations\n",
      "25-0000: Educational Instruction and Library Occupations\n",
      "45-0000: Farming, Fishing, and Forestry Occupations\n",
      "35-0000: Food Preparation and Serving Related Occupations\n",
      "29-0000: Healthcare Practitioners and Technical Occupations\n",
      "31-0000: Healthcare Support Occupations\n",
      "49-0000: Installation, Maintenance, and Repair Occupations\n",
      "23-0000: Legal Occupations\n",
      "19-0000: Life, Physical, and Social Science Occupations\n",
      "11-0000: Management Occupations\n",
      "55-0000: Military Specific Occupations\n",
      "43-0000: Office and Administrative Support Occupations\n",
      "39-0000: Personal Care and Service Occupations\n",
      "51-0000: Production Occupations\n",
      "33-0000: Protective Service Occupations\n",
      "41-0000: Sales and Related Occupations\n",
      "53-0000: Transportation and Material Moving Occupations\n",
      "\n",
      "11-0000: Management Occupations\n",
      "13-0000: Business and Financial Operations Occupations\n",
      "15-0000: Computer and Mathematical Occupations\n",
      "17-0000: Architecture and Engineering Occupations\n",
      "19-0000: Life, Physical, and Social Science Occupations\n",
      "21-0000: Community and Social Service Occupations\n",
      "23-0000: Legal Occupations\n",
      "25-0000: Educational Instruction and Library Occupations\n",
      "27-0000: Arts, Design, Entertainment, Sports, and Media Occupations\n",
      "29-0000: Healthcare Practitioners and Technical Occupations\n",
      "31-0000: Healthcare Support Occupations\n",
      "33-0000: Protective Service Occupations\n",
      "35-0000: Food Preparation and Serving Related Occupations\n",
      "37-0000: Building and Grounds Cleaning and Maintenance Occupations\n",
      "39-0000: Personal Care and Service Occupations\n",
      "41-0000: Sales and Related Occupations\n",
      "43-0000: Office and Administrative Support Occupations\n",
      "45-0000: Farming, Fishing, and Forestry Occupations\n",
      "47-0000: Construction and Extraction Occupations\n",
      "49-0000: Installation, Maintenance, and Repair Occupations\n",
      "51-0000: Production Occupations\n",
      "53-0000: Transportation and Material Moving Occupations\n",
      "55-0000: Military Specific Occupations\n"
     ]
    }
   ],
   "source": [
    "def clean_col(col):\n",
    "    \"\"\"\n",
    "    Returns clean col name\n",
    "    \"\"\"\n",
    "    col = col.replace(\" \", \"_\")\n",
    "    col = col.replace(\"-\", \"_\")\n",
    "    col = col.replace(\"*\", \"\")\n",
    "    col = col.lower()\n",
    "    return col\n",
    "\n",
    "def print_major_cats():\n",
    "    \"\"\"\n",
    "    Prints major SOC categories and returns a df with cols like \n",
    "    \n",
    "    major_group, soc_or_onet_soc_2019_title \n",
    "    \"\"\"\n",
    "    soc = pd.read_csv(\"data/raw/SOC_Structure.csv\")\n",
    "    soc.columns = [clean_col(s) for s in soc.columns]\n",
    "    print(soc.columns)\n",
    "    majors = soc.dropna(subset=['major_group'])[['major_group', 'soc_or_onet_soc_2019_title']]\n",
    "    majors = majors.sort_values(by=['soc_or_onet_soc_2019_title'])\n",
    "    for idx, row in majors.iterrows():\n",
    "        print(f\"{row['major_group']}: {row['soc_or_onet_soc_2019_title']}\")\n",
    "    print()\n",
    "    majors = majors.sort_values(by=['major_group'])\n",
    "    for idx, row in majors.iterrows():\n",
    "        print(f\"{row['major_group']}: {row['soc_or_onet_soc_2019_title']}\")\n",
    "    return majors\n",
    "        \n",
    "majors = print_major_cats()\n"
   ]
  },
  {
   "cell_type": "markdown",
   "id": "12a9222b2c942a71",
   "metadata": {
    "collapsed": false
   },
   "source": [
    "# Step 3: Assign the YC clusters to ONET occupation categories"
   ]
  },
  {
   "cell_type": "code",
   "execution_count": 4,
   "id": "f355e760779c517b",
   "metadata": {
    "collapsed": false,
    "ExecuteTime": {
     "end_time": "2025-04-08T14:05:12.758340Z",
     "start_time": "2025-04-08T14:05:12.687891Z"
    }
   },
   "outputs": [
    {
     "name": "stdout",
     "output_type": "stream",
     "text": [
      "{'legal': ['23-0000'], 'finance': ['13-0000', '11-0000'], 'commerce': ['41-0000', '13-0000', '11-0000'], 'communication': ['27-0000', '15-0000'], 'healthcare': ['29-0000', '31-0000'], 'productivity': ['15-0000', '43-0000'], 'customer_service': ['43-0000', '41-0000'], 'education': ['25-0000']}\n",
      "legal: ['Legal Occupations']\n",
      "finance: ['Business and Financial Operations Occupations' 'Management Occupations']\n",
      "commerce: ['Sales and Related Occupations'\n",
      " 'Business and Financial Operations Occupations' 'Management Occupations']\n",
      "communication: ['Arts, Design, Entertainment, Sports, and Media Occupations'\n",
      " 'Computer and Mathematical Occupations']\n",
      "healthcare: ['Healthcare Practitioners and Technical Occupations'\n",
      " 'Healthcare Support Occupations']\n",
      "productivity: ['Computer and Mathematical Occupations'\n",
      " 'Office and Administrative Support Occupations']\n",
      "customer_service: ['Office and Administrative Support Occupations'\n",
      " 'Sales and Related Occupations']\n",
      "education: ['Educational Instruction and Library Occupations']\n",
      "{'legal': ['23-0000'], 'finance': ['13-0000', '11-0000'], 'commerce': ['41-0000', '13-0000', '11-0000'], 'communication': ['27-0000', '15-0000'], 'healthcare': ['29-0000', '31-0000'], 'productivity': ['15-0000', '43-0000'], 'customer_service': ['43-0000', '41-0000'], 'education': ['25-0000']}\n",
      "legal: ['Legal Occupations']\n",
      "finance: ['Business and Financial Operations Occupations' 'Management Occupations']\n",
      "commerce: ['Sales and Related Occupations'\n",
      " 'Business and Financial Operations Occupations' 'Management Occupations']\n",
      "communication: ['Arts, Design, Entertainment, Sports, and Media Occupations'\n",
      " 'Computer and Mathematical Occupations']\n",
      "healthcare: ['Healthcare Practitioners and Technical Occupations'\n",
      " 'Healthcare Support Occupations']\n",
      "productivity: ['Computer and Mathematical Occupations'\n",
      " 'Office and Administrative Support Occupations']\n",
      "customer_service: ['Office and Administrative Support Occupations'\n",
      " 'Sales and Related Occupations']\n",
      "education: ['Educational Instruction and Library Occupations']\n"
     ]
    }
   ],
   "source": [
    "soc_mapping = {\n",
    "\n",
    "    'legal': ['23-0000'],  # Legal Occupations\n",
    "\n",
    "    'finance': ['13-0000',  # Business and Financial Operations Occupations\n",
    "                '11-0000'],  # Management Occupations \n",
    "\n",
    "    'commerce': [\n",
    "        '41-0000',  # Sales and Related Occupations\n",
    "        '13-0000',  # Business and Financial Operations Occupations \n",
    "        '11-0000'  # Management Occupations \n",
    "    ],\n",
    "\n",
    "    'communication': [\n",
    "        '27-0000',  # Arts, Design, Entertainment, Sports, and Media Occupations, \n",
    "        '15-0000' # Computer and Mathematical Occupations\n",
    "\n",
    "    ],\n",
    "\n",
    "    'healthcare': [\n",
    "        '29-0000',  # Healthcare Practitioners and Technical Occupations\n",
    "        '31-0000'  # Healthcare Support Occupations\n",
    "    ],\n",
    "\n",
    "    'productivity': [\n",
    "        '15-0000',  # Computer and Mathematical Occupations\n",
    "        '43-0000'  # Office and Administrative Support Occupations\n",
    "    ],\n",
    "\n",
    "    'customer_service': [\n",
    "        '43-0000',  # Office and Administrative Support Occupations\n",
    "        '41-0000'  # Sales and Related Occupations \n",
    "    ],\n",
    "\n",
    "    'education': ['25-0000'],  # Educational Instruction and Library Occupations\n",
    "\n",
    "}\n",
    "\n",
    "def create_soc_mapping(soc_mapping, soc_codes):\n",
    "    \"\"\"\n",
    "    Create a mapping of cluster to SOC codes.\n",
    "    \n",
    "    Args:\n",
    "    - cluster (str): The name of the cluster.\n",
    "    - soc_codes (list): List of SOC codes associated with the cluster.\n",
    "    \n",
    "    Returns:\n",
    "    - dict: A dictionary with the cluster as the key and the SOC codes as the value.\n",
    "    \"\"\"\n",
    "    print(soc_mapping)\n",
    "\n",
    "    data = []\n",
    "    for cluster, soc_codes in soc_mapping.items():\n",
    "        for soc_code in soc_codes:\n",
    "            data.append({\n",
    "                'cluster': cluster,\n",
    "                'soc_code': soc_code\n",
    "            })\n",
    "    \n",
    "    soc_df = pd.DataFrame(data)\n",
    "    merged = pd.merge(soc_df, majors, left_on='soc_code', right_on='major_group', how='left')\n",
    "    \n",
    "    for cluster in soc_mapping.keys():\n",
    "        print(f\"{cluster}: {merged[merged['cluster'] == cluster]['soc_or_onet_soc_2019_title'].unique()}\")\n",
    "    return merged\n",
    "\n",
    "# Result dictionary\n",
    "\n",
    "soc_df = create_soc_mapping(soc_mapping, majors['soc_or_onet_soc_2019_title'].unique())\n",
    "\n",
    "\n",
    "###### Latex table\n",
    "\n",
    "\n",
    "# create a latex table\n",
    "\n",
    "soc_df2 = create_soc_mapping(soc_mapping, majors['soc_or_onet_soc_2019_title'].unique())\n",
    "\n",
    "soc_df2 = soc_df2[['cluster', 'major_group', 'soc_or_onet_soc_2019_title']]\n",
    "\n",
    "soc_df2.columns = ['Cluster', 'Major Group Code', 'Major Group']\n",
    "\n",
    "soc_df2.to_latex(\"tables/soc_mapping.tex\", \n",
    "                 index=False,\n",
    "                 escape=False, \n",
    "                 caption=\"Clusters and their associated ONET major group codes.\",\n",
    "                 label=\"tab:soc_mapping\",\n",
    "                 longtable=True)\n",
    "\n",
    "\n",
    "\n",
    "\n",
    "    "
   ]
  },
  {
   "cell_type": "code",
   "execution_count": 5,
   "id": "2f48551b1aa962da",
   "metadata": {
    "collapsed": false,
    "ExecuteTime": {
     "end_time": "2025-04-08T14:05:18.170538Z",
     "start_time": "2025-04-08T14:05:18.156131Z"
    }
   },
   "outputs": [
    {
     "data": {
      "text/plain": "             cluster soc_code major_group  \\\n0              legal  23-0000     23-0000   \n1            finance  13-0000     13-0000   \n2            finance  11-0000     11-0000   \n3           commerce  41-0000     41-0000   \n4           commerce  13-0000     13-0000   \n5           commerce  11-0000     11-0000   \n6      communication  27-0000     27-0000   \n7      communication  15-0000     15-0000   \n8         healthcare  29-0000     29-0000   \n9         healthcare  31-0000     31-0000   \n10      productivity  15-0000     15-0000   \n11      productivity  43-0000     43-0000   \n12  customer_service  43-0000     43-0000   \n13  customer_service  41-0000     41-0000   \n14         education  25-0000     25-0000   \n\n                           soc_or_onet_soc_2019_title  \n0                                   Legal Occupations  \n1       Business and Financial Operations Occupations  \n2                              Management Occupations  \n3                       Sales and Related Occupations  \n4       Business and Financial Operations Occupations  \n5                              Management Occupations  \n6   Arts, Design, Entertainment, Sports, and Media...  \n7               Computer and Mathematical Occupations  \n8   Healthcare Practitioners and Technical Occupat...  \n9                      Healthcare Support Occupations  \n10              Computer and Mathematical Occupations  \n11      Office and Administrative Support Occupations  \n12      Office and Administrative Support Occupations  \n13                      Sales and Related Occupations  \n14    Educational Instruction and Library Occupations  ",
      "text/html": "<div>\n<style scoped>\n    .dataframe tbody tr th:only-of-type {\n        vertical-align: middle;\n    }\n\n    .dataframe tbody tr th {\n        vertical-align: top;\n    }\n\n    .dataframe thead th {\n        text-align: right;\n    }\n</style>\n<table border=\"1\" class=\"dataframe\">\n  <thead>\n    <tr style=\"text-align: right;\">\n      <th></th>\n      <th>cluster</th>\n      <th>soc_code</th>\n      <th>major_group</th>\n      <th>soc_or_onet_soc_2019_title</th>\n    </tr>\n  </thead>\n  <tbody>\n    <tr>\n      <th>0</th>\n      <td>legal</td>\n      <td>23-0000</td>\n      <td>23-0000</td>\n      <td>Legal Occupations</td>\n    </tr>\n    <tr>\n      <th>1</th>\n      <td>finance</td>\n      <td>13-0000</td>\n      <td>13-0000</td>\n      <td>Business and Financial Operations Occupations</td>\n    </tr>\n    <tr>\n      <th>2</th>\n      <td>finance</td>\n      <td>11-0000</td>\n      <td>11-0000</td>\n      <td>Management Occupations</td>\n    </tr>\n    <tr>\n      <th>3</th>\n      <td>commerce</td>\n      <td>41-0000</td>\n      <td>41-0000</td>\n      <td>Sales and Related Occupations</td>\n    </tr>\n    <tr>\n      <th>4</th>\n      <td>commerce</td>\n      <td>13-0000</td>\n      <td>13-0000</td>\n      <td>Business and Financial Operations Occupations</td>\n    </tr>\n    <tr>\n      <th>5</th>\n      <td>commerce</td>\n      <td>11-0000</td>\n      <td>11-0000</td>\n      <td>Management Occupations</td>\n    </tr>\n    <tr>\n      <th>6</th>\n      <td>communication</td>\n      <td>27-0000</td>\n      <td>27-0000</td>\n      <td>Arts, Design, Entertainment, Sports, and Media...</td>\n    </tr>\n    <tr>\n      <th>7</th>\n      <td>communication</td>\n      <td>15-0000</td>\n      <td>15-0000</td>\n      <td>Computer and Mathematical Occupations</td>\n    </tr>\n    <tr>\n      <th>8</th>\n      <td>healthcare</td>\n      <td>29-0000</td>\n      <td>29-0000</td>\n      <td>Healthcare Practitioners and Technical Occupat...</td>\n    </tr>\n    <tr>\n      <th>9</th>\n      <td>healthcare</td>\n      <td>31-0000</td>\n      <td>31-0000</td>\n      <td>Healthcare Support Occupations</td>\n    </tr>\n    <tr>\n      <th>10</th>\n      <td>productivity</td>\n      <td>15-0000</td>\n      <td>15-0000</td>\n      <td>Computer and Mathematical Occupations</td>\n    </tr>\n    <tr>\n      <th>11</th>\n      <td>productivity</td>\n      <td>43-0000</td>\n      <td>43-0000</td>\n      <td>Office and Administrative Support Occupations</td>\n    </tr>\n    <tr>\n      <th>12</th>\n      <td>customer_service</td>\n      <td>43-0000</td>\n      <td>43-0000</td>\n      <td>Office and Administrative Support Occupations</td>\n    </tr>\n    <tr>\n      <th>13</th>\n      <td>customer_service</td>\n      <td>41-0000</td>\n      <td>41-0000</td>\n      <td>Sales and Related Occupations</td>\n    </tr>\n    <tr>\n      <th>14</th>\n      <td>education</td>\n      <td>25-0000</td>\n      <td>25-0000</td>\n      <td>Educational Instruction and Library Occupations</td>\n    </tr>\n  </tbody>\n</table>\n</div>"
     },
     "execution_count": 5,
     "metadata": {},
     "output_type": "execute_result"
    }
   ],
   "source": [
    "soc_df"
   ]
  },
  {
   "cell_type": "markdown",
   "id": "b8afe60e93cfdaa9",
   "metadata": {
    "collapsed": false
   },
   "source": [
    "## Step 4: Get the work activities or tasks for each cluster\n"
   ]
  },
  {
   "cell_type": "code",
   "execution_count": 47,
   "id": "ab857f69ec0049b8",
   "metadata": {
    "collapsed": false,
    "ExecuteTime": {
     "end_time": "2025-04-08T14:20:29.114355Z",
     "start_time": "2025-04-08T14:20:26.804451Z"
    }
   },
   "outputs": [
    {
     "name": "stdout",
     "output_type": "stream",
     "text": [
      "WORK ACTIVITIES\n",
      "====================================================================================================\n",
      "stats\n",
      "unique jobs 879\n",
      "unique work acts 41\n"
     ]
    }
   ],
   "source": [
    "def get_top_by_major(soc_codes=None):\n",
    "    \"\"\"\n",
    "    Get top abilities by SOC major category.\n",
    "    \n",
    "    Args:\n",
    "    - what (str): 'abilities', 'tasks', or 'dwa' to specify the type of data to retrieve.\n",
    "    - top_n (int): Number of top items to return.\n",
    "    - soc_codes (list): List of SOC major codes to filter by. If None, all codes are included.\n",
    "    \"\"\"\n",
    "\n",
    "\n",
    "\n",
    "    work_data = pd.read_csv(\"https://www.onetcenter.org/dl_files/database/db_29_2_text/Work%20Activities.txt\", sep=\"\\t\")\n",
    "    work_data = work_data[work_data['Recommend Suppress'] != 'Y']\n",
    "    print(\"stats\")\n",
    "    unique_jobs = work_data['O*NET-SOC Code'].nunique()\n",
    "    unique_work_acts = work_data['Element Name'].nunique()\n",
    "    print(\"unique jobs\", unique_jobs)\n",
    "    print(\"unique work acts\", unique_work_acts)\n",
    "    \n",
    "\n",
    "    work_data['soc_major'] = work_data['O*NET-SOC Code'].apply(lambda x: x[:2] + \"-0000\")\n",
    "    \n",
    "        \n",
    "    work_data['data_value_z'] = work_data.groupby(by='Scale ID')['Data Value'].transform(lambda x: (x - x.mean()) / x.std())\n",
    "    \n",
    "    # first aggregate at occupation level \n",
    "    work_data = work_data.groupby(by=['soc_major', 'O*NET-SOC Code', 'Element Name'])['data_value_z'].mean().reset_index()\n",
    "    \n",
    "    # now aggregate at major group level \n",
    "    byname = work_data.groupby(by=['Element Name', 'soc_major'])['data_value_z'].mean().reset_index()\n",
    "                    \n",
    "    byname = byname.rename(columns={'Element Name': 'item_name'})\n",
    "        \n",
    "    \n",
    "    return byname\n",
    "\n",
    "\n",
    "\n",
    "def pretty_format_list(items):\n",
    "    \"\"\"\n",
    "    Pretty format a list of items for display.\n",
    "    \"\"\"\n",
    "    for item in items:\n",
    "        print(f\"- {item}\")\n",
    "        print(\"---\"*3)\n",
    "        \n",
    "\n",
    "N = 10\n",
    "\n",
    "\n",
    "\n",
    "\n",
    "# This one is work activities\n",
    "print(\"WORK ACTIVITIES\")\n",
    "print(\"=====\"*20)\n",
    "top_dwa = get_top_by_major()\n",
    "dwa_merge = pd.merge(soc_df, top_dwa, left_on='soc_code', right_on='soc_major', how='left')\n",
    "\n",
    "# now aggregate at cluster level\n",
    "dwa_merge = dwa_merge.groupby(by=['cluster', 'item_name'])['data_value_z'].mean().reset_index()\n",
    "\n",
    "\n",
    "\n",
    "dwa_merge['rank'] = dwa_merge.groupby(by=['cluster'])['data_value_z'].rank(ascending=False)\n",
    "dwa_merge = dwa_merge[['cluster', 'item_name', 'rank']]\n",
    "dwa_merge_top = dwa_merge.query(\"rank <= @N\")\n",
    "dwa_merge_top.to_csv(\"data/raw/cluster_activities.csv\")\n",
    "\n",
    "\n",
    "# latex\n",
    "############### \n",
    "\n",
    "dwa_merge_top2 = dwa_merge.query(\"rank <= @N\")\n",
    "dwa_merge_top2 = dwa_merge.sort_values(by=['cluster', 'rank'], ascending=[True, True])\n",
    "dwa_merge_top2 = dwa_merge_top2.groupby(by=['cluster'])['item_name'].apply(lambda x: \",\".join(x))\n",
    "dwa_merge_top2.columns = ['Cluster', 'Work Activities']\n",
    "dwa_merge_top2.to_latex(\"tables/work_acts.tex\", caption=\"Clusters and top 10 work activities of associated ONET occuptations.\", label=\"work_acts\", longtable=True)\n"
   ]
  },
  {
   "cell_type": "code",
   "execution_count": 41,
   "id": "4d3abc4c9dd39c9a",
   "metadata": {
    "collapsed": false,
    "ExecuteTime": {
     "end_time": "2025-04-08T14:17:03.761220Z",
     "start_time": "2025-04-08T14:17:03.748316Z"
    }
   },
   "outputs": [],
   "source": [
    "import numpy as np\n",
    "from sklearn.metrics import jaccard_score\n",
    "import pandas as pd\n",
    "\n",
    "# Assuming dwa_merge_top is your DataFrame\n",
    "# First get the items per cluster\n",
    "cluster_items = dwa_merge_top.groupby(by=['cluster'])['item_name'].apply(list).reset_index()\n",
    "\n",
    "# Convert to sets for Jaccard calculation\n",
    "cluster_sets = {}\n",
    "for _, row in cluster_items.iterrows():\n",
    "    cluster_sets[row['cluster']] = set(row['item_name'])\n",
    "\n",
    "# Calculate Jaccard similarity for all pairs of clusters\n",
    "clusters = list(cluster_sets.keys())\n",
    "n_clusters = len(clusters)\n",
    "jaccard_matrix = np.zeros((n_clusters, n_clusters))\n",
    "\n",
    "for i in range(n_clusters):\n",
    "    for j in range(n_clusters):\n",
    "        set_i = cluster_sets[clusters[i]]\n",
    "        set_j = cluster_sets[clusters[j]]\n",
    "        \n",
    "        # Calculate Jaccard similarity\n",
    "        if i == j:  # Same cluster, similarity is 1.0\n",
    "            jaccard_matrix[i, j] = 1.0\n",
    "        else:\n",
    "            intersection = len(set_i.intersection(set_j))\n",
    "            union = len(set_i.union(set_j))\n",
    "            jaccard_matrix[i, j] = intersection / union if union > 0 else 0.0\n",
    "\n",
    "# Calculate average Jaccard similarity for each cluster\n",
    "avg_jaccard_by_cluster = {}\n",
    "for i, cluster in enumerate(clusters):\n",
    "    # Exclude self-similarity (which is always 1.0)\n",
    "    avg_similarity = np.sum(jaccard_matrix[i, :]) - 1.0  # Subtract self-similarity\n",
    "    avg_similarity = avg_similarity / (n_clusters - 1)  # Divide by number of other clusters\n",
    "    avg_jaccard_by_cluster[cluster] = avg_similarity\n",
    "\n",
    "# Convert to DataFrame for better visualization\n",
    "avg_jaccard_df = pd.DataFrame({\n",
    "    'cluster': list(avg_jaccard_by_cluster.keys()),\n",
    "    'avg_jaccard_similarity': list(avg_jaccard_by_cluster.values())\n",
    "})\n",
    "\n",
    "# Sort by average Jaccard similarity\n",
    "avg_jaccard_df = avg_jaccard_df.sort_values('avg_jaccard_similarity', ascending=False)"
   ]
  },
  {
   "cell_type": "code",
   "execution_count": 44,
   "id": "c60cc98a433aca2e",
   "metadata": {
    "collapsed": false,
    "ExecuteTime": {
     "end_time": "2025-04-08T14:17:09.502712Z",
     "start_time": "2025-04-08T14:17:09.496905Z"
    }
   },
   "outputs": [
    {
     "data": {
      "text/plain": "np.float64(0.6116145759002901)"
     },
     "execution_count": 44,
     "metadata": {},
     "output_type": "execute_result"
    }
   ],
   "source": [
    "avg_jaccard_df['avg_jaccard_similarity'].mean()"
   ]
  },
  {
   "cell_type": "code",
   "execution_count": 7,
   "id": "f4604651dc16370f",
   "metadata": {
    "collapsed": false,
    "ExecuteTime": {
     "end_time": "2025-04-08T14:08:04.625764Z",
     "start_time": "2025-04-08T14:08:04.612879Z"
    }
   },
   "outputs": [
    {
     "data": {
      "text/plain": "          cluster                                          item_name  rank\n0        commerce                      Analyzing Data or Information  10.0\n1        commerce                    Assisting and Caring for Others  32.0\n2        commerce                     Coaching and Developing Others  22.0\n3        commerce  Communicating with People Outside the Organiza...   7.0\n4        commerce  Communicating with Supervisors, Peers, or Subo...   3.0\n..            ...                                                ...   ...\n323  productivity                      Staffing Organizational Units  35.0\n324  productivity                                Thinking Creatively  13.0\n325  productivity                       Training and Teaching Others  21.0\n326  productivity              Updating and Using Relevant Knowledge   5.0\n327  productivity                             Working with Computers   1.0\n\n[328 rows x 3 columns]",
      "text/html": "<div>\n<style scoped>\n    .dataframe tbody tr th:only-of-type {\n        vertical-align: middle;\n    }\n\n    .dataframe tbody tr th {\n        vertical-align: top;\n    }\n\n    .dataframe thead th {\n        text-align: right;\n    }\n</style>\n<table border=\"1\" class=\"dataframe\">\n  <thead>\n    <tr style=\"text-align: right;\">\n      <th></th>\n      <th>cluster</th>\n      <th>item_name</th>\n      <th>rank</th>\n    </tr>\n  </thead>\n  <tbody>\n    <tr>\n      <th>0</th>\n      <td>commerce</td>\n      <td>Analyzing Data or Information</td>\n      <td>10.0</td>\n    </tr>\n    <tr>\n      <th>1</th>\n      <td>commerce</td>\n      <td>Assisting and Caring for Others</td>\n      <td>32.0</td>\n    </tr>\n    <tr>\n      <th>2</th>\n      <td>commerce</td>\n      <td>Coaching and Developing Others</td>\n      <td>22.0</td>\n    </tr>\n    <tr>\n      <th>3</th>\n      <td>commerce</td>\n      <td>Communicating with People Outside the Organiza...</td>\n      <td>7.0</td>\n    </tr>\n    <tr>\n      <th>4</th>\n      <td>commerce</td>\n      <td>Communicating with Supervisors, Peers, or Subo...</td>\n      <td>3.0</td>\n    </tr>\n    <tr>\n      <th>...</th>\n      <td>...</td>\n      <td>...</td>\n      <td>...</td>\n    </tr>\n    <tr>\n      <th>323</th>\n      <td>productivity</td>\n      <td>Staffing Organizational Units</td>\n      <td>35.0</td>\n    </tr>\n    <tr>\n      <th>324</th>\n      <td>productivity</td>\n      <td>Thinking Creatively</td>\n      <td>13.0</td>\n    </tr>\n    <tr>\n      <th>325</th>\n      <td>productivity</td>\n      <td>Training and Teaching Others</td>\n      <td>21.0</td>\n    </tr>\n    <tr>\n      <th>326</th>\n      <td>productivity</td>\n      <td>Updating and Using Relevant Knowledge</td>\n      <td>5.0</td>\n    </tr>\n    <tr>\n      <th>327</th>\n      <td>productivity</td>\n      <td>Working with Computers</td>\n      <td>1.0</td>\n    </tr>\n  </tbody>\n</table>\n<p>328 rows × 3 columns</p>\n</div>"
     },
     "execution_count": 7,
     "metadata": {},
     "output_type": "execute_result"
    }
   ],
   "source": [
    "dwa_merge"
   ]
  },
  {
   "cell_type": "code",
   "execution_count": null,
   "id": "daad662c48423814",
   "metadata": {
    "collapsed": false
   },
   "outputs": [],
   "source": []
  }
 ],
 "metadata": {
  "kernelspec": {
   "display_name": "Python 3 (ipykernel)",
   "language": "python",
   "name": "python3"
  },
  "language_info": {
   "codemirror_mode": {
    "name": "ipython",
    "version": 3
   },
   "file_extension": ".py",
   "mimetype": "text/x-python",
   "name": "python",
   "nbconvert_exporter": "python",
   "pygments_lexer": "ipython3",
   "version": "3.12.0"
  }
 },
 "nbformat": 4,
 "nbformat_minor": 5
}

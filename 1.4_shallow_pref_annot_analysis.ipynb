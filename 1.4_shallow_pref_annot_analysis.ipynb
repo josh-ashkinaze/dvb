{
 "cells": [
  {
   "cell_type": "code",
   "outputs": [],
   "source": [
    "# Read and clean data"
   ],
   "metadata": {
    "collapsed": false,
    "ExecuteTime": {
     "end_time": "2025-04-14T14:59:33.971178Z",
     "start_time": "2025-04-14T14:59:33.965776Z"
    }
   },
   "id": "3a91b53687a6c34c",
   "execution_count": 1
  },
  {
   "cell_type": "markdown",
   "source": [
    "# Read and clean data"
   ],
   "metadata": {
    "collapsed": false
   },
   "id": "4ab3559a88d2fac6"
  },
  {
   "cell_type": "code",
   "outputs": [
    {
     "ename": "FileNotFoundError",
     "evalue": "[Errno 2] No such file or directory: 'data/raw/deep_shallow_2025-04-13_April+13,+2025_19.14.csv'",
     "output_type": "error",
     "traceback": [
      "\u001B[31m---------------------------------------------------------------------------\u001B[39m",
      "\u001B[31mFileNotFoundError\u001B[39m                         Traceback (most recent call last)",
      "\u001B[36mCell\u001B[39m\u001B[36m \u001B[39m\u001B[32mIn[1]\u001B[39m\u001B[32m, line 47\u001B[39m\n\u001B[32m     44\u001B[39m     \u001B[38;5;28;01melif\u001B[39;00m x2 == \u001B[32m0\u001B[39m:\n\u001B[32m     45\u001B[39m         \u001B[38;5;28;01mreturn\u001B[39;00m \u001B[32m3\u001B[39m\n\u001B[32m---> \u001B[39m\u001B[32m47\u001B[39m df = \u001B[43mpd\u001B[49m\u001B[43m.\u001B[49m\u001B[43mread_csv\u001B[49m\u001B[43m(\u001B[49m\u001B[33;43m'\u001B[39;49m\u001B[33;43mdata/raw/deep_shallow_2025-04-13_April+13,+2025_19.14.csv\u001B[39;49m\u001B[33;43m'\u001B[39;49m\u001B[43m)\u001B[49m\n\u001B[32m     48\u001B[39m df = df.iloc[\u001B[32m2\u001B[39m:]\n\u001B[32m     50\u001B[39m data = []\n",
      "\u001B[36mFile \u001B[39m\u001B[32m~/locresearch/LocResearch/dvb_wrapper/dvb/.venv_fix/lib/python3.12/site-packages/pandas/io/parsers/readers.py:1026\u001B[39m, in \u001B[36mread_csv\u001B[39m\u001B[34m(filepath_or_buffer, sep, delimiter, header, names, index_col, usecols, dtype, engine, converters, true_values, false_values, skipinitialspace, skiprows, skipfooter, nrows, na_values, keep_default_na, na_filter, verbose, skip_blank_lines, parse_dates, infer_datetime_format, keep_date_col, date_parser, date_format, dayfirst, cache_dates, iterator, chunksize, compression, thousands, decimal, lineterminator, quotechar, quoting, doublequote, escapechar, comment, encoding, encoding_errors, dialect, on_bad_lines, delim_whitespace, low_memory, memory_map, float_precision, storage_options, dtype_backend)\u001B[39m\n\u001B[32m   1013\u001B[39m kwds_defaults = _refine_defaults_read(\n\u001B[32m   1014\u001B[39m     dialect,\n\u001B[32m   1015\u001B[39m     delimiter,\n\u001B[32m   (...)\u001B[39m\u001B[32m   1022\u001B[39m     dtype_backend=dtype_backend,\n\u001B[32m   1023\u001B[39m )\n\u001B[32m   1024\u001B[39m kwds.update(kwds_defaults)\n\u001B[32m-> \u001B[39m\u001B[32m1026\u001B[39m \u001B[38;5;28;01mreturn\u001B[39;00m \u001B[43m_read\u001B[49m\u001B[43m(\u001B[49m\u001B[43mfilepath_or_buffer\u001B[49m\u001B[43m,\u001B[49m\u001B[43m \u001B[49m\u001B[43mkwds\u001B[49m\u001B[43m)\u001B[49m\n",
      "\u001B[36mFile \u001B[39m\u001B[32m~/locresearch/LocResearch/dvb_wrapper/dvb/.venv_fix/lib/python3.12/site-packages/pandas/io/parsers/readers.py:620\u001B[39m, in \u001B[36m_read\u001B[39m\u001B[34m(filepath_or_buffer, kwds)\u001B[39m\n\u001B[32m    617\u001B[39m _validate_names(kwds.get(\u001B[33m\"\u001B[39m\u001B[33mnames\u001B[39m\u001B[33m\"\u001B[39m, \u001B[38;5;28;01mNone\u001B[39;00m))\n\u001B[32m    619\u001B[39m \u001B[38;5;66;03m# Create the parser.\u001B[39;00m\n\u001B[32m--> \u001B[39m\u001B[32m620\u001B[39m parser = \u001B[43mTextFileReader\u001B[49m\u001B[43m(\u001B[49m\u001B[43mfilepath_or_buffer\u001B[49m\u001B[43m,\u001B[49m\u001B[43m \u001B[49m\u001B[43m*\u001B[49m\u001B[43m*\u001B[49m\u001B[43mkwds\u001B[49m\u001B[43m)\u001B[49m\n\u001B[32m    622\u001B[39m \u001B[38;5;28;01mif\u001B[39;00m chunksize \u001B[38;5;129;01mor\u001B[39;00m iterator:\n\u001B[32m    623\u001B[39m     \u001B[38;5;28;01mreturn\u001B[39;00m parser\n",
      "\u001B[36mFile \u001B[39m\u001B[32m~/locresearch/LocResearch/dvb_wrapper/dvb/.venv_fix/lib/python3.12/site-packages/pandas/io/parsers/readers.py:1620\u001B[39m, in \u001B[36mTextFileReader.__init__\u001B[39m\u001B[34m(self, f, engine, **kwds)\u001B[39m\n\u001B[32m   1617\u001B[39m     \u001B[38;5;28mself\u001B[39m.options[\u001B[33m\"\u001B[39m\u001B[33mhas_index_names\u001B[39m\u001B[33m\"\u001B[39m] = kwds[\u001B[33m\"\u001B[39m\u001B[33mhas_index_names\u001B[39m\u001B[33m\"\u001B[39m]\n\u001B[32m   1619\u001B[39m \u001B[38;5;28mself\u001B[39m.handles: IOHandles | \u001B[38;5;28;01mNone\u001B[39;00m = \u001B[38;5;28;01mNone\u001B[39;00m\n\u001B[32m-> \u001B[39m\u001B[32m1620\u001B[39m \u001B[38;5;28mself\u001B[39m._engine = \u001B[38;5;28;43mself\u001B[39;49m\u001B[43m.\u001B[49m\u001B[43m_make_engine\u001B[49m\u001B[43m(\u001B[49m\u001B[43mf\u001B[49m\u001B[43m,\u001B[49m\u001B[43m \u001B[49m\u001B[38;5;28;43mself\u001B[39;49m\u001B[43m.\u001B[49m\u001B[43mengine\u001B[49m\u001B[43m)\u001B[49m\n",
      "\u001B[36mFile \u001B[39m\u001B[32m~/locresearch/LocResearch/dvb_wrapper/dvb/.venv_fix/lib/python3.12/site-packages/pandas/io/parsers/readers.py:1880\u001B[39m, in \u001B[36mTextFileReader._make_engine\u001B[39m\u001B[34m(self, f, engine)\u001B[39m\n\u001B[32m   1878\u001B[39m     \u001B[38;5;28;01mif\u001B[39;00m \u001B[33m\"\u001B[39m\u001B[33mb\u001B[39m\u001B[33m\"\u001B[39m \u001B[38;5;129;01mnot\u001B[39;00m \u001B[38;5;129;01min\u001B[39;00m mode:\n\u001B[32m   1879\u001B[39m         mode += \u001B[33m\"\u001B[39m\u001B[33mb\u001B[39m\u001B[33m\"\u001B[39m\n\u001B[32m-> \u001B[39m\u001B[32m1880\u001B[39m \u001B[38;5;28mself\u001B[39m.handles = \u001B[43mget_handle\u001B[49m\u001B[43m(\u001B[49m\n\u001B[32m   1881\u001B[39m \u001B[43m    \u001B[49m\u001B[43mf\u001B[49m\u001B[43m,\u001B[49m\n\u001B[32m   1882\u001B[39m \u001B[43m    \u001B[49m\u001B[43mmode\u001B[49m\u001B[43m,\u001B[49m\n\u001B[32m   1883\u001B[39m \u001B[43m    \u001B[49m\u001B[43mencoding\u001B[49m\u001B[43m=\u001B[49m\u001B[38;5;28;43mself\u001B[39;49m\u001B[43m.\u001B[49m\u001B[43moptions\u001B[49m\u001B[43m.\u001B[49m\u001B[43mget\u001B[49m\u001B[43m(\u001B[49m\u001B[33;43m\"\u001B[39;49m\u001B[33;43mencoding\u001B[39;49m\u001B[33;43m\"\u001B[39;49m\u001B[43m,\u001B[49m\u001B[43m \u001B[49m\u001B[38;5;28;43;01mNone\u001B[39;49;00m\u001B[43m)\u001B[49m\u001B[43m,\u001B[49m\n\u001B[32m   1884\u001B[39m \u001B[43m    \u001B[49m\u001B[43mcompression\u001B[49m\u001B[43m=\u001B[49m\u001B[38;5;28;43mself\u001B[39;49m\u001B[43m.\u001B[49m\u001B[43moptions\u001B[49m\u001B[43m.\u001B[49m\u001B[43mget\u001B[49m\u001B[43m(\u001B[49m\u001B[33;43m\"\u001B[39;49m\u001B[33;43mcompression\u001B[39;49m\u001B[33;43m\"\u001B[39;49m\u001B[43m,\u001B[49m\u001B[43m \u001B[49m\u001B[38;5;28;43;01mNone\u001B[39;49;00m\u001B[43m)\u001B[49m\u001B[43m,\u001B[49m\n\u001B[32m   1885\u001B[39m \u001B[43m    \u001B[49m\u001B[43mmemory_map\u001B[49m\u001B[43m=\u001B[49m\u001B[38;5;28;43mself\u001B[39;49m\u001B[43m.\u001B[49m\u001B[43moptions\u001B[49m\u001B[43m.\u001B[49m\u001B[43mget\u001B[49m\u001B[43m(\u001B[49m\u001B[33;43m\"\u001B[39;49m\u001B[33;43mmemory_map\u001B[39;49m\u001B[33;43m\"\u001B[39;49m\u001B[43m,\u001B[49m\u001B[43m \u001B[49m\u001B[38;5;28;43;01mFalse\u001B[39;49;00m\u001B[43m)\u001B[49m\u001B[43m,\u001B[49m\n\u001B[32m   1886\u001B[39m \u001B[43m    \u001B[49m\u001B[43mis_text\u001B[49m\u001B[43m=\u001B[49m\u001B[43mis_text\u001B[49m\u001B[43m,\u001B[49m\n\u001B[32m   1887\u001B[39m \u001B[43m    \u001B[49m\u001B[43merrors\u001B[49m\u001B[43m=\u001B[49m\u001B[38;5;28;43mself\u001B[39;49m\u001B[43m.\u001B[49m\u001B[43moptions\u001B[49m\u001B[43m.\u001B[49m\u001B[43mget\u001B[49m\u001B[43m(\u001B[49m\u001B[33;43m\"\u001B[39;49m\u001B[33;43mencoding_errors\u001B[39;49m\u001B[33;43m\"\u001B[39;49m\u001B[43m,\u001B[49m\u001B[43m \u001B[49m\u001B[33;43m\"\u001B[39;49m\u001B[33;43mstrict\u001B[39;49m\u001B[33;43m\"\u001B[39;49m\u001B[43m)\u001B[49m\u001B[43m,\u001B[49m\n\u001B[32m   1888\u001B[39m \u001B[43m    \u001B[49m\u001B[43mstorage_options\u001B[49m\u001B[43m=\u001B[49m\u001B[38;5;28;43mself\u001B[39;49m\u001B[43m.\u001B[49m\u001B[43moptions\u001B[49m\u001B[43m.\u001B[49m\u001B[43mget\u001B[49m\u001B[43m(\u001B[49m\u001B[33;43m\"\u001B[39;49m\u001B[33;43mstorage_options\u001B[39;49m\u001B[33;43m\"\u001B[39;49m\u001B[43m,\u001B[49m\u001B[43m \u001B[49m\u001B[38;5;28;43;01mNone\u001B[39;49;00m\u001B[43m)\u001B[49m\u001B[43m,\u001B[49m\n\u001B[32m   1889\u001B[39m \u001B[43m\u001B[49m\u001B[43m)\u001B[49m\n\u001B[32m   1890\u001B[39m \u001B[38;5;28;01massert\u001B[39;00m \u001B[38;5;28mself\u001B[39m.handles \u001B[38;5;129;01mis\u001B[39;00m \u001B[38;5;129;01mnot\u001B[39;00m \u001B[38;5;28;01mNone\u001B[39;00m\n\u001B[32m   1891\u001B[39m f = \u001B[38;5;28mself\u001B[39m.handles.handle\n",
      "\u001B[36mFile \u001B[39m\u001B[32m~/locresearch/LocResearch/dvb_wrapper/dvb/.venv_fix/lib/python3.12/site-packages/pandas/io/common.py:873\u001B[39m, in \u001B[36mget_handle\u001B[39m\u001B[34m(path_or_buf, mode, encoding, compression, memory_map, is_text, errors, storage_options)\u001B[39m\n\u001B[32m    868\u001B[39m \u001B[38;5;28;01melif\u001B[39;00m \u001B[38;5;28misinstance\u001B[39m(handle, \u001B[38;5;28mstr\u001B[39m):\n\u001B[32m    869\u001B[39m     \u001B[38;5;66;03m# Check whether the filename is to be opened in binary mode.\u001B[39;00m\n\u001B[32m    870\u001B[39m     \u001B[38;5;66;03m# Binary mode does not support 'encoding' and 'newline'.\u001B[39;00m\n\u001B[32m    871\u001B[39m     \u001B[38;5;28;01mif\u001B[39;00m ioargs.encoding \u001B[38;5;129;01mand\u001B[39;00m \u001B[33m\"\u001B[39m\u001B[33mb\u001B[39m\u001B[33m\"\u001B[39m \u001B[38;5;129;01mnot\u001B[39;00m \u001B[38;5;129;01min\u001B[39;00m ioargs.mode:\n\u001B[32m    872\u001B[39m         \u001B[38;5;66;03m# Encoding\u001B[39;00m\n\u001B[32m--> \u001B[39m\u001B[32m873\u001B[39m         handle = \u001B[38;5;28;43mopen\u001B[39;49m\u001B[43m(\u001B[49m\n\u001B[32m    874\u001B[39m \u001B[43m            \u001B[49m\u001B[43mhandle\u001B[49m\u001B[43m,\u001B[49m\n\u001B[32m    875\u001B[39m \u001B[43m            \u001B[49m\u001B[43mioargs\u001B[49m\u001B[43m.\u001B[49m\u001B[43mmode\u001B[49m\u001B[43m,\u001B[49m\n\u001B[32m    876\u001B[39m \u001B[43m            \u001B[49m\u001B[43mencoding\u001B[49m\u001B[43m=\u001B[49m\u001B[43mioargs\u001B[49m\u001B[43m.\u001B[49m\u001B[43mencoding\u001B[49m\u001B[43m,\u001B[49m\n\u001B[32m    877\u001B[39m \u001B[43m            \u001B[49m\u001B[43merrors\u001B[49m\u001B[43m=\u001B[49m\u001B[43merrors\u001B[49m\u001B[43m,\u001B[49m\n\u001B[32m    878\u001B[39m \u001B[43m            \u001B[49m\u001B[43mnewline\u001B[49m\u001B[43m=\u001B[49m\u001B[33;43m\"\u001B[39;49m\u001B[33;43m\"\u001B[39;49m\u001B[43m,\u001B[49m\n\u001B[32m    879\u001B[39m \u001B[43m        \u001B[49m\u001B[43m)\u001B[49m\n\u001B[32m    880\u001B[39m     \u001B[38;5;28;01melse\u001B[39;00m:\n\u001B[32m    881\u001B[39m         \u001B[38;5;66;03m# Binary mode\u001B[39;00m\n\u001B[32m    882\u001B[39m         handle = \u001B[38;5;28mopen\u001B[39m(handle, ioargs.mode)\n",
      "\u001B[31mFileNotFoundError\u001B[39m: [Errno 2] No such file or directory: 'data/raw/deep_shallow_2025-04-13_April+13,+2025_19.14.csv'"
     ]
    }
   ],
   "source": [
    "import pandas as pd \n",
    "import numpy as np\n",
    "import matplotlib.pyplot as plt\n",
    "import seaborn as sns\n",
    "\n",
    "from helpers import make_aesthetic, array_stats, categorical_stats\n",
    "\n",
    "import numpy as np\n",
    "import pandas as pd\n",
    "import seaborn as sns\n",
    "import matplotlib.pyplot as plt\n",
    "from stargazer.stargazer import Stargazer\n",
    "\n",
    "mypal = make_aesthetic()\n",
    "\n",
    "\n",
    "\n",
    "def clean_shallow_deep(x):\n",
    "    # because scale is -2, -1, 0, 1, 2 and qualtrics is 1, 2, 3, 4, 5\n",
    "    # So this function turns metric into -2 to 2 in direction of <deep --> shallow> \n",
    "\n",
    "    if pd.isna(x):\n",
    "        return None \n",
    "    return (int(x) - 3) * -1\n",
    "\n",
    "def clean_general(x):\n",
    "    # Take first character\n",
    "    if pd.isna(x):\n",
    "        return None\n",
    "    return int(x[0])\n",
    "\n",
    "def clean_even(x):\n",
    "    # qualtrics is coding as 1, 2, 3, 4, 5\n",
    "    # semantic scale was # (normalize to -2, -1, 0, 1, 2)\n",
    "    # where 0 meant both equal. \n",
    "    # So we want to penalize large deviations from 0 \n",
    "    if pd.isna(x):\n",
    "        return None\n",
    "    x2 = int(x) - 3 # (normalize to -2, -1, 0, 1, 2)\n",
    "    if x2 in [-2, 2]:\n",
    "        return 1\n",
    "    elif x2 in [-1, 1]:\n",
    "        return 2\n",
    "    elif x2 == 0:\n",
    "        return 3\n",
    "\n",
    "df = pd.read_csv('data/raw/deep_shallow_2025-04-13_April+13,+2025_19.14.csv')\n",
    "df = df.iloc[2:]\n",
    "\n",
    "data = []\n",
    "for idx, row in df.iterrows():\n",
    "    \n",
    "    # participant data\n",
    "    duration = row['Duration (in seconds)']\n",
    "    pid = row['pid']\n",
    "    deep_shallow_1 = row['deep_shallow_1']\n",
    "    deep_shallow_2 = row['deep_shallow_2']\n",
    "    educ = row['educ']\n",
    "    income = row['income']\n",
    "    gender = row['gender']\n",
    "    age = row['Age']\n",
    "    ai_usage = row['ai_usage']\n",
    "    con = row['con']\n",
    "    \n",
    "    participant_data = {\n",
    "        \"duration\": duration,\n",
    "        \"pid\": pid,\n",
    "        \"deep_shallow_1\": deep_shallow_1,\n",
    "        \"deep_shallow_2\": deep_shallow_2,\n",
    "        \"educ\": educ,\n",
    "        \"income\": income,\n",
    "        \"gender\": gender, \n",
    "        \"age\": age,\n",
    "        \"ai_usage\": ai_usage,\n",
    "        \"con\": con\n",
    "    }\n",
    "    \n",
    "    llm_shallow_cols = [x for x in df.columns if \"lm_shallow_\" in x]\n",
    "    for col in llm_shallow_cols:\n",
    "        data_pt = {\n",
    "            \"raw_col\": col,\n",
    "            \"metric\": \"deep_shallow\",\n",
    "            \"loop_merge\": int(col.split(\"_\")[0]),\n",
    "            \"answer_raw\": row[col],\n",
    "            \"answer\": clean_shallow_deep(row[col]),\n",
    "        }\n",
    "        data_pt.update(participant_data)\n",
    "        data.append(data_pt)\n",
    "        \n",
    "    llm_general_cols = [x for x in df.columns if \"lm_general\" in x]\n",
    "    for col in llm_general_cols:\n",
    "        data_pt = {\n",
    "            \"raw_col\": col,\n",
    "            \"metric\": \"general\",\n",
    "            \"loop_merge\": int(col.split(\"_\")[0]),\n",
    "            \"answer_raw\": row[col],\n",
    "            \"answer\": clean_general(row[col]),\n",
    "        }\n",
    "\n",
    "        data_pt.update(participant_data)\n",
    "        data.append(data_pt)\n",
    "    llm_split_cols = [x for x in df.columns if \"lm_split\" in x]\n",
    "    for col in llm_split_cols:\n",
    "        data_pt = {\n",
    "            \"raw_col\": col,\n",
    "            \"metric\": \"even\",\n",
    "            \"loop_merge\": int(col.split(\"_\")[0]),\n",
    "            \"answer_raw\": row[col],\n",
    "            \"answer\": clean_even(row[col]),\n",
    "        }\n",
    "        data_pt.update(participant_data)\n",
    "        data.append(data_pt)\n",
    "    \n",
    "    \n",
    "df = pd.DataFrame(data)\n",
    "df = df.dropna(subset=['answer'])\n",
    "meta_df = pd.read_csv('data/clean/qualtrics_loop_merge_deep_shallow.csv')\n",
    "df = pd.merge(df, meta_df, how='left', left_on=['loop_merge'], right_on=['idx'])\n",
    "df['name'] = df['name1'] + \"/\" + df['name2']\n",
    "\n",
    "\n",
    "    \n",
    "dfs = {}\n",
    "dfs['deep_shallow'] = df[df['metric'] == 'deep_shallow']\n",
    "dfs['general'] = df[df['metric'] == 'general']\n",
    "dfs['even'] = df[df['metric'] == 'even']\n",
    "    "
   ],
   "metadata": {
    "collapsed": true,
    "ExecuteTime": {
     "end_time": "2025-04-15T00:06:36.704256Z",
     "start_time": "2025-04-15T00:06:35.924230Z"
    }
   },
   "id": "initial_id",
   "execution_count": 1
  },
  {
   "cell_type": "code",
   "outputs": [
    {
     "data": {
      "text/plain": "                                   name              name1  \\\n0                          Adaptability           Adaptive   \n1                              Autonomy         Autonomous   \n2                            Complexity             Simple   \n3                           Conciseness            Concise   \n4                          Content Type            Factual   \n5                            Data Usage       Data Minimal   \n6                       Decision-Making           Decisive   \n7                        Emotional Tone         Empathetic   \n8                      Engagement Level    High Engagement   \n9                        Error Handling          Forgiving   \n10                   Feedback Frequency  Frequent Feedback   \n11                        Feedback Type           Positive   \n12                      Form Of Address     Formal Address   \n13                                Humor           Humorous   \n14                    Information Depth      Surface-Level   \n15                    Interaction Focus      Task-Oriented   \n16                     Interaction Form         Structured   \n17                Interaction Frequency           Frequent   \n18               Interaction Initiation     User-Initiated   \n19                   Interaction Length              Short   \n20                   Interaction Medium              Voice   \n21                    Interaction Style     Conversational   \n22                  Language Complexity    Simple Language   \n23                       Language Style    Formal Language   \n24                       Learning Curve              Steep   \n25                      Personalization       Personalized   \n26                       Predictability        Predictable   \n27                              Privacy    Privacy-Focused   \n28                          Proactivity          Proactive   \n29                       Response Speed               Fast   \n30                         Transparency        Transparent   \n31                     Update Frequency   Frequent Updates   \n32                    Visual Aesthetics         Minimalist   \n33                          Visual Aids             Visual   \n34                        Visual Design         Minimalist   \n35                                Voice         Human-Like   \n36               Fidelity or Reparation           Fidelity   \n37              Fidelity or Reciprocity           Fidelity   \n38                  Fidelity or Justice           Fidelity   \n39              Fidelity or Beneficence           Fidelity   \n40         Fidelity or Self Improvement           Fidelity   \n41          Fidelity or Non Maleficence           Fidelity   \n42            Reparation or Reciprocity         Reparation   \n43                Reparation or Justice         Reparation   \n44            Reparation or Beneficence         Reparation   \n45       Reparation or Self Improvement         Reparation   \n46        Reparation or Non Maleficence         Reparation   \n47               Reciprocity or Justice        Reciprocity   \n48           Reciprocity or Beneficence        Reciprocity   \n49      Reciprocity or Self Improvement        Reciprocity   \n50       Reciprocity or Non Maleficence        Reciprocity   \n51               Justice or Beneficence            Justice   \n52          Justice or Self Improvement            Justice   \n53           Justice or Non Maleficence            Justice   \n54      Beneficence or Self Improvement        Beneficence   \n55       Beneficence or Non Maleficence        Beneficence   \n56  Self Improvement or Non Maleficence   Self Improvement   \n\n                                            name1_def                  name2  \\\n0   Preferring AI agents adjust their behavior bas...                 Static   \n1   Preferring AI agents that operate independentl...             Controlled   \n2   Preferring AI interactions that are straightfo...                Complex   \n3   Preferring AI responses that are brief and to ...               Detailed   \n4   Preferring AI interactions that focus on factu...            Opinionated   \n5      Preferring AI that uses minimal personal data.           Data Maximal   \n6           Preferring AI that makes quick decisions.           Deliberative   \n7   Preferring AI interactions that are sensitive ...                Neutral   \n8   Preferring AI interactions that are interactiv...         Low Engagement   \n9   Preferring AI systems that are lenient and tol...                 Strict   \n10  Preferring AI interactions that provide regula...       Minimal Feedback   \n11  Preferring AI feedback that is encouraging and...           Constructive   \n12  Preferring AI interactions that use formal tit...       Informal Address   \n13  Preferring AI agents incorporate humor into th...                Serious   \n14  Preferring AI interactions that provide basic ...               In-Depth   \n15  Preferring AI interactions that focus on compl...  Relationship-Oriented   \n16  Preferring AI interactions that follow a set f...           Unstructured   \n17  Preferring AI interactions that occur often an...             Infrequent   \n18  Preferring AI interactions that are started by...           Ai-Initiated   \n19  Preferring AI interactions that are brief and ...                   Long   \n20  Preferring AI interactions that occur through ...                   Text   \n21  Preferring AI interactions that mimic human-li...          Transactional   \n22  Preferring AI interactions that use simple lan...       Complex Language   \n23  Preferring AI interactions that use formal and...    Colloquial Language   \n24  Preferring AI systems that require significant...                Shallow   \n25  Preferring AI interactions that are tailored t...                Generic   \n26  Preferring AI interactions that are consistent...          Unpredictable   \n27  Preferring AI systems that prioritize user pri...           Data-Sharing   \n28  Preferring AI agents anticipate user needs and...               Reactive   \n29  Preferring AI responses that are delivered qui...                   Slow   \n30  Preferring AI agents clearly explain their pro...                 Opaque   \n31  Preferring AI systems that are updated regular...     Infrequent Updates   \n32  Preferring AI interfaces that are simple and u...                 Ornate   \n33  Preferring AI interactions that include visual...             Non-Visual   \n34  Preferring AI interfaces that are simple and u...              Elaborate   \n35  Preferring AI voices that closely resemble hum...                Robotic   \n36  Preferring AI Agents that be honest and truthful.             Reparation   \n37  Preferring AI Agents that be honest and truthful.            Reciprocity   \n38  Preferring AI Agents that be honest and truthful.                Justice   \n39  Preferring AI Agents that be honest and truthful.            Beneficence   \n40  Preferring AI Agents that be honest and truthful.       Self Improvement   \n41  Preferring AI Agents that be honest and truthful.        Non Maleficence   \n42     Preferring AI Agents that correct past errors.            Reciprocity   \n43     Preferring AI Agents that correct past errors.                Justice   \n44     Preferring AI Agents that correct past errors.            Beneficence   \n45     Preferring AI Agents that correct past errors.       Self Improvement   \n46     Preferring AI Agents that correct past errors.        Non Maleficence   \n47             Preferring AI Agents that reciprocate.                Justice   \n48             Preferring AI Agents that reciprocate.            Beneficence   \n49             Preferring AI Agents that reciprocate.       Self Improvement   \n50             Preferring AI Agents that reciprocate.        Non Maleficence   \n51  Preferring AI Agents that consider distributio...            Beneficence   \n52  Preferring AI Agents that consider distributio...       Self Improvement   \n53  Preferring AI Agents that consider distributio...        Non Maleficence   \n54  Preferring AI Agents that maximize aggregate g...       Self Improvement   \n55  Preferring AI Agents that maximize aggregate g...        Non Maleficence   \n56          Preferring AI Agents that improve itself.        Non Maleficence   \n\n                                            name2_def      set  idx  \n0   Preferring AI agents maintain consistent behav...  shallow    1  \n1   Preferring AI agents that require user guidanc...  shallow    2  \n2   Preferring AI interactions that are intricate ...  shallow    3  \n3   Preferring AI responses that are thorough and ...  shallow    4  \n4   Preferring AI interactions that include opinio...  shallow    5  \n5   Preferring AI that uses extensive personal dat...  shallow    6  \n6   Preferring AI that takes time to consider opti...  shallow    7  \n7   Preferring AI interactions that are emotionall...  shallow    8  \n8   Preferring AI interactions that are straightfo...  shallow    9  \n9   Preferring AI systems that enforce rules and r...  shallow   10  \n10  Preferring AI interactions that provide feedba...  shallow   11  \n11  Preferring AI feedback that is critical and ai...  shallow   12  \n12  Preferring AI interactions that use first name...  shallow   13  \n13  Preferring AI agents maintain a serious demean...  shallow   14  \n14  Preferring AI interactions that provide detail...  shallow   15  \n15  Preferring AI interactions that focus on build...  shallow   16  \n16  Preferring AI interactions that are free-form ...  shallow   17  \n17  Preferring AI interactions that are rare and o...  shallow   18  \n18  Preferring AI interactions that are started by...  shallow   19  \n19  Preferring AI interactions that are extended a...  shallow   20  \n20  Preferring AI interactions that occur through ...  shallow   21  \n21  Preferring AI interactions that are straightfo...  shallow   22  \n22  Preferring AI interactions that use complex la...  shallow   23  \n23  Preferring AI interactions that use informal a...  shallow   24  \n24  Preferring AI systems that are easy to use wit...  shallow   25  \n25  Preferring AI interactions that are standardiz...  shallow   26  \n26  Preferring AI interactions that are varied and...  shallow   27  \n27  Preferring AI systems that utilize data sharin...  shallow   28  \n28  Preferring AI agents respond only when prompte...  shallow   29  \n29  Preferring AI responses that are delivered at ...  shallow   30  \n30  Preferring AI agents provide minimal explanati...  shallow   31  \n31  Preferring AI systems that are updated only wh...  shallow   32  \n32  Preferring AI interfaces that are detailed and...  shallow   33  \n33  Preferring AI interactions that rely solely on...  shallow   34  \n34  Preferring AI interfaces that are detailed and...  shallow   35  \n35  Preferring AI voices that sound distinctly art...  shallow   36  \n36     Preferring AI Agents that correct past errors.     deep   37  \n37             Preferring AI Agents that reciprocate.     deep   38  \n38  Preferring AI Agents that consider distributio...     deep   39  \n39  Preferring AI Agents that maximize aggregate g...     deep   40  \n40          Preferring AI Agents that improve itself.     deep   41  \n41         Preferring AI Agents that not harm others.     deep   42  \n42             Preferring AI Agents that reciprocate.     deep   43  \n43  Preferring AI Agents that consider distributio...     deep   44  \n44  Preferring AI Agents that maximize aggregate g...     deep   45  \n45          Preferring AI Agents that improve itself.     deep   46  \n46         Preferring AI Agents that not harm others.     deep   47  \n47  Preferring AI Agents that consider distributio...     deep   48  \n48  Preferring AI Agents that maximize aggregate g...     deep   49  \n49          Preferring AI Agents that improve itself.     deep   50  \n50         Preferring AI Agents that not harm others.     deep   51  \n51  Preferring AI Agents that maximize aggregate g...     deep   52  \n52          Preferring AI Agents that improve itself.     deep   53  \n53         Preferring AI Agents that not harm others.     deep   54  \n54          Preferring AI Agents that improve itself.     deep   55  \n55         Preferring AI Agents that not harm others.     deep   56  \n56         Preferring AI Agents that not harm others.     deep   57  ",
      "text/html": "<div>\n<style scoped>\n    .dataframe tbody tr th:only-of-type {\n        vertical-align: middle;\n    }\n\n    .dataframe tbody tr th {\n        vertical-align: top;\n    }\n\n    .dataframe thead th {\n        text-align: right;\n    }\n</style>\n<table border=\"1\" class=\"dataframe\">\n  <thead>\n    <tr style=\"text-align: right;\">\n      <th></th>\n      <th>name</th>\n      <th>name1</th>\n      <th>name1_def</th>\n      <th>name2</th>\n      <th>name2_def</th>\n      <th>set</th>\n      <th>idx</th>\n    </tr>\n  </thead>\n  <tbody>\n    <tr>\n      <th>0</th>\n      <td>Adaptability</td>\n      <td>Adaptive</td>\n      <td>Preferring AI agents adjust their behavior bas...</td>\n      <td>Static</td>\n      <td>Preferring AI agents maintain consistent behav...</td>\n      <td>shallow</td>\n      <td>1</td>\n    </tr>\n    <tr>\n      <th>1</th>\n      <td>Autonomy</td>\n      <td>Autonomous</td>\n      <td>Preferring AI agents that operate independentl...</td>\n      <td>Controlled</td>\n      <td>Preferring AI agents that require user guidanc...</td>\n      <td>shallow</td>\n      <td>2</td>\n    </tr>\n    <tr>\n      <th>2</th>\n      <td>Complexity</td>\n      <td>Simple</td>\n      <td>Preferring AI interactions that are straightfo...</td>\n      <td>Complex</td>\n      <td>Preferring AI interactions that are intricate ...</td>\n      <td>shallow</td>\n      <td>3</td>\n    </tr>\n    <tr>\n      <th>3</th>\n      <td>Conciseness</td>\n      <td>Concise</td>\n      <td>Preferring AI responses that are brief and to ...</td>\n      <td>Detailed</td>\n      <td>Preferring AI responses that are thorough and ...</td>\n      <td>shallow</td>\n      <td>4</td>\n    </tr>\n    <tr>\n      <th>4</th>\n      <td>Content Type</td>\n      <td>Factual</td>\n      <td>Preferring AI interactions that focus on factu...</td>\n      <td>Opinionated</td>\n      <td>Preferring AI interactions that include opinio...</td>\n      <td>shallow</td>\n      <td>5</td>\n    </tr>\n    <tr>\n      <th>5</th>\n      <td>Data Usage</td>\n      <td>Data Minimal</td>\n      <td>Preferring AI that uses minimal personal data.</td>\n      <td>Data Maximal</td>\n      <td>Preferring AI that uses extensive personal dat...</td>\n      <td>shallow</td>\n      <td>6</td>\n    </tr>\n    <tr>\n      <th>6</th>\n      <td>Decision-Making</td>\n      <td>Decisive</td>\n      <td>Preferring AI that makes quick decisions.</td>\n      <td>Deliberative</td>\n      <td>Preferring AI that takes time to consider opti...</td>\n      <td>shallow</td>\n      <td>7</td>\n    </tr>\n    <tr>\n      <th>7</th>\n      <td>Emotional Tone</td>\n      <td>Empathetic</td>\n      <td>Preferring AI interactions that are sensitive ...</td>\n      <td>Neutral</td>\n      <td>Preferring AI interactions that are emotionall...</td>\n      <td>shallow</td>\n      <td>8</td>\n    </tr>\n    <tr>\n      <th>8</th>\n      <td>Engagement Level</td>\n      <td>High Engagement</td>\n      <td>Preferring AI interactions that are interactiv...</td>\n      <td>Low Engagement</td>\n      <td>Preferring AI interactions that are straightfo...</td>\n      <td>shallow</td>\n      <td>9</td>\n    </tr>\n    <tr>\n      <th>9</th>\n      <td>Error Handling</td>\n      <td>Forgiving</td>\n      <td>Preferring AI systems that are lenient and tol...</td>\n      <td>Strict</td>\n      <td>Preferring AI systems that enforce rules and r...</td>\n      <td>shallow</td>\n      <td>10</td>\n    </tr>\n    <tr>\n      <th>10</th>\n      <td>Feedback Frequency</td>\n      <td>Frequent Feedback</td>\n      <td>Preferring AI interactions that provide regula...</td>\n      <td>Minimal Feedback</td>\n      <td>Preferring AI interactions that provide feedba...</td>\n      <td>shallow</td>\n      <td>11</td>\n    </tr>\n    <tr>\n      <th>11</th>\n      <td>Feedback Type</td>\n      <td>Positive</td>\n      <td>Preferring AI feedback that is encouraging and...</td>\n      <td>Constructive</td>\n      <td>Preferring AI feedback that is critical and ai...</td>\n      <td>shallow</td>\n      <td>12</td>\n    </tr>\n    <tr>\n      <th>12</th>\n      <td>Form Of Address</td>\n      <td>Formal Address</td>\n      <td>Preferring AI interactions that use formal tit...</td>\n      <td>Informal Address</td>\n      <td>Preferring AI interactions that use first name...</td>\n      <td>shallow</td>\n      <td>13</td>\n    </tr>\n    <tr>\n      <th>13</th>\n      <td>Humor</td>\n      <td>Humorous</td>\n      <td>Preferring AI agents incorporate humor into th...</td>\n      <td>Serious</td>\n      <td>Preferring AI agents maintain a serious demean...</td>\n      <td>shallow</td>\n      <td>14</td>\n    </tr>\n    <tr>\n      <th>14</th>\n      <td>Information Depth</td>\n      <td>Surface-Level</td>\n      <td>Preferring AI interactions that provide basic ...</td>\n      <td>In-Depth</td>\n      <td>Preferring AI interactions that provide detail...</td>\n      <td>shallow</td>\n      <td>15</td>\n    </tr>\n    <tr>\n      <th>15</th>\n      <td>Interaction Focus</td>\n      <td>Task-Oriented</td>\n      <td>Preferring AI interactions that focus on compl...</td>\n      <td>Relationship-Oriented</td>\n      <td>Preferring AI interactions that focus on build...</td>\n      <td>shallow</td>\n      <td>16</td>\n    </tr>\n    <tr>\n      <th>16</th>\n      <td>Interaction Form</td>\n      <td>Structured</td>\n      <td>Preferring AI interactions that follow a set f...</td>\n      <td>Unstructured</td>\n      <td>Preferring AI interactions that are free-form ...</td>\n      <td>shallow</td>\n      <td>17</td>\n    </tr>\n    <tr>\n      <th>17</th>\n      <td>Interaction Frequency</td>\n      <td>Frequent</td>\n      <td>Preferring AI interactions that occur often an...</td>\n      <td>Infrequent</td>\n      <td>Preferring AI interactions that are rare and o...</td>\n      <td>shallow</td>\n      <td>18</td>\n    </tr>\n    <tr>\n      <th>18</th>\n      <td>Interaction Initiation</td>\n      <td>User-Initiated</td>\n      <td>Preferring AI interactions that are started by...</td>\n      <td>Ai-Initiated</td>\n      <td>Preferring AI interactions that are started by...</td>\n      <td>shallow</td>\n      <td>19</td>\n    </tr>\n    <tr>\n      <th>19</th>\n      <td>Interaction Length</td>\n      <td>Short</td>\n      <td>Preferring AI interactions that are brief and ...</td>\n      <td>Long</td>\n      <td>Preferring AI interactions that are extended a...</td>\n      <td>shallow</td>\n      <td>20</td>\n    </tr>\n    <tr>\n      <th>20</th>\n      <td>Interaction Medium</td>\n      <td>Voice</td>\n      <td>Preferring AI interactions that occur through ...</td>\n      <td>Text</td>\n      <td>Preferring AI interactions that occur through ...</td>\n      <td>shallow</td>\n      <td>21</td>\n    </tr>\n    <tr>\n      <th>21</th>\n      <td>Interaction Style</td>\n      <td>Conversational</td>\n      <td>Preferring AI interactions that mimic human-li...</td>\n      <td>Transactional</td>\n      <td>Preferring AI interactions that are straightfo...</td>\n      <td>shallow</td>\n      <td>22</td>\n    </tr>\n    <tr>\n      <th>22</th>\n      <td>Language Complexity</td>\n      <td>Simple Language</td>\n      <td>Preferring AI interactions that use simple lan...</td>\n      <td>Complex Language</td>\n      <td>Preferring AI interactions that use complex la...</td>\n      <td>shallow</td>\n      <td>23</td>\n    </tr>\n    <tr>\n      <th>23</th>\n      <td>Language Style</td>\n      <td>Formal Language</td>\n      <td>Preferring AI interactions that use formal and...</td>\n      <td>Colloquial Language</td>\n      <td>Preferring AI interactions that use informal a...</td>\n      <td>shallow</td>\n      <td>24</td>\n    </tr>\n    <tr>\n      <th>24</th>\n      <td>Learning Curve</td>\n      <td>Steep</td>\n      <td>Preferring AI systems that require significant...</td>\n      <td>Shallow</td>\n      <td>Preferring AI systems that are easy to use wit...</td>\n      <td>shallow</td>\n      <td>25</td>\n    </tr>\n    <tr>\n      <th>25</th>\n      <td>Personalization</td>\n      <td>Personalized</td>\n      <td>Preferring AI interactions that are tailored t...</td>\n      <td>Generic</td>\n      <td>Preferring AI interactions that are standardiz...</td>\n      <td>shallow</td>\n      <td>26</td>\n    </tr>\n    <tr>\n      <th>26</th>\n      <td>Predictability</td>\n      <td>Predictable</td>\n      <td>Preferring AI interactions that are consistent...</td>\n      <td>Unpredictable</td>\n      <td>Preferring AI interactions that are varied and...</td>\n      <td>shallow</td>\n      <td>27</td>\n    </tr>\n    <tr>\n      <th>27</th>\n      <td>Privacy</td>\n      <td>Privacy-Focused</td>\n      <td>Preferring AI systems that prioritize user pri...</td>\n      <td>Data-Sharing</td>\n      <td>Preferring AI systems that utilize data sharin...</td>\n      <td>shallow</td>\n      <td>28</td>\n    </tr>\n    <tr>\n      <th>28</th>\n      <td>Proactivity</td>\n      <td>Proactive</td>\n      <td>Preferring AI agents anticipate user needs and...</td>\n      <td>Reactive</td>\n      <td>Preferring AI agents respond only when prompte...</td>\n      <td>shallow</td>\n      <td>29</td>\n    </tr>\n    <tr>\n      <th>29</th>\n      <td>Response Speed</td>\n      <td>Fast</td>\n      <td>Preferring AI responses that are delivered qui...</td>\n      <td>Slow</td>\n      <td>Preferring AI responses that are delivered at ...</td>\n      <td>shallow</td>\n      <td>30</td>\n    </tr>\n    <tr>\n      <th>30</th>\n      <td>Transparency</td>\n      <td>Transparent</td>\n      <td>Preferring AI agents clearly explain their pro...</td>\n      <td>Opaque</td>\n      <td>Preferring AI agents provide minimal explanati...</td>\n      <td>shallow</td>\n      <td>31</td>\n    </tr>\n    <tr>\n      <th>31</th>\n      <td>Update Frequency</td>\n      <td>Frequent Updates</td>\n      <td>Preferring AI systems that are updated regular...</td>\n      <td>Infrequent Updates</td>\n      <td>Preferring AI systems that are updated only wh...</td>\n      <td>shallow</td>\n      <td>32</td>\n    </tr>\n    <tr>\n      <th>32</th>\n      <td>Visual Aesthetics</td>\n      <td>Minimalist</td>\n      <td>Preferring AI interfaces that are simple and u...</td>\n      <td>Ornate</td>\n      <td>Preferring AI interfaces that are detailed and...</td>\n      <td>shallow</td>\n      <td>33</td>\n    </tr>\n    <tr>\n      <th>33</th>\n      <td>Visual Aids</td>\n      <td>Visual</td>\n      <td>Preferring AI interactions that include visual...</td>\n      <td>Non-Visual</td>\n      <td>Preferring AI interactions that rely solely on...</td>\n      <td>shallow</td>\n      <td>34</td>\n    </tr>\n    <tr>\n      <th>34</th>\n      <td>Visual Design</td>\n      <td>Minimalist</td>\n      <td>Preferring AI interfaces that are simple and u...</td>\n      <td>Elaborate</td>\n      <td>Preferring AI interfaces that are detailed and...</td>\n      <td>shallow</td>\n      <td>35</td>\n    </tr>\n    <tr>\n      <th>35</th>\n      <td>Voice</td>\n      <td>Human-Like</td>\n      <td>Preferring AI voices that closely resemble hum...</td>\n      <td>Robotic</td>\n      <td>Preferring AI voices that sound distinctly art...</td>\n      <td>shallow</td>\n      <td>36</td>\n    </tr>\n    <tr>\n      <th>36</th>\n      <td>Fidelity or Reparation</td>\n      <td>Fidelity</td>\n      <td>Preferring AI Agents that be honest and truthful.</td>\n      <td>Reparation</td>\n      <td>Preferring AI Agents that correct past errors.</td>\n      <td>deep</td>\n      <td>37</td>\n    </tr>\n    <tr>\n      <th>37</th>\n      <td>Fidelity or Reciprocity</td>\n      <td>Fidelity</td>\n      <td>Preferring AI Agents that be honest and truthful.</td>\n      <td>Reciprocity</td>\n      <td>Preferring AI Agents that reciprocate.</td>\n      <td>deep</td>\n      <td>38</td>\n    </tr>\n    <tr>\n      <th>38</th>\n      <td>Fidelity or Justice</td>\n      <td>Fidelity</td>\n      <td>Preferring AI Agents that be honest and truthful.</td>\n      <td>Justice</td>\n      <td>Preferring AI Agents that consider distributio...</td>\n      <td>deep</td>\n      <td>39</td>\n    </tr>\n    <tr>\n      <th>39</th>\n      <td>Fidelity or Beneficence</td>\n      <td>Fidelity</td>\n      <td>Preferring AI Agents that be honest and truthful.</td>\n      <td>Beneficence</td>\n      <td>Preferring AI Agents that maximize aggregate g...</td>\n      <td>deep</td>\n      <td>40</td>\n    </tr>\n    <tr>\n      <th>40</th>\n      <td>Fidelity or Self Improvement</td>\n      <td>Fidelity</td>\n      <td>Preferring AI Agents that be honest and truthful.</td>\n      <td>Self Improvement</td>\n      <td>Preferring AI Agents that improve itself.</td>\n      <td>deep</td>\n      <td>41</td>\n    </tr>\n    <tr>\n      <th>41</th>\n      <td>Fidelity or Non Maleficence</td>\n      <td>Fidelity</td>\n      <td>Preferring AI Agents that be honest and truthful.</td>\n      <td>Non Maleficence</td>\n      <td>Preferring AI Agents that not harm others.</td>\n      <td>deep</td>\n      <td>42</td>\n    </tr>\n    <tr>\n      <th>42</th>\n      <td>Reparation or Reciprocity</td>\n      <td>Reparation</td>\n      <td>Preferring AI Agents that correct past errors.</td>\n      <td>Reciprocity</td>\n      <td>Preferring AI Agents that reciprocate.</td>\n      <td>deep</td>\n      <td>43</td>\n    </tr>\n    <tr>\n      <th>43</th>\n      <td>Reparation or Justice</td>\n      <td>Reparation</td>\n      <td>Preferring AI Agents that correct past errors.</td>\n      <td>Justice</td>\n      <td>Preferring AI Agents that consider distributio...</td>\n      <td>deep</td>\n      <td>44</td>\n    </tr>\n    <tr>\n      <th>44</th>\n      <td>Reparation or Beneficence</td>\n      <td>Reparation</td>\n      <td>Preferring AI Agents that correct past errors.</td>\n      <td>Beneficence</td>\n      <td>Preferring AI Agents that maximize aggregate g...</td>\n      <td>deep</td>\n      <td>45</td>\n    </tr>\n    <tr>\n      <th>45</th>\n      <td>Reparation or Self Improvement</td>\n      <td>Reparation</td>\n      <td>Preferring AI Agents that correct past errors.</td>\n      <td>Self Improvement</td>\n      <td>Preferring AI Agents that improve itself.</td>\n      <td>deep</td>\n      <td>46</td>\n    </tr>\n    <tr>\n      <th>46</th>\n      <td>Reparation or Non Maleficence</td>\n      <td>Reparation</td>\n      <td>Preferring AI Agents that correct past errors.</td>\n      <td>Non Maleficence</td>\n      <td>Preferring AI Agents that not harm others.</td>\n      <td>deep</td>\n      <td>47</td>\n    </tr>\n    <tr>\n      <th>47</th>\n      <td>Reciprocity or Justice</td>\n      <td>Reciprocity</td>\n      <td>Preferring AI Agents that reciprocate.</td>\n      <td>Justice</td>\n      <td>Preferring AI Agents that consider distributio...</td>\n      <td>deep</td>\n      <td>48</td>\n    </tr>\n    <tr>\n      <th>48</th>\n      <td>Reciprocity or Beneficence</td>\n      <td>Reciprocity</td>\n      <td>Preferring AI Agents that reciprocate.</td>\n      <td>Beneficence</td>\n      <td>Preferring AI Agents that maximize aggregate g...</td>\n      <td>deep</td>\n      <td>49</td>\n    </tr>\n    <tr>\n      <th>49</th>\n      <td>Reciprocity or Self Improvement</td>\n      <td>Reciprocity</td>\n      <td>Preferring AI Agents that reciprocate.</td>\n      <td>Self Improvement</td>\n      <td>Preferring AI Agents that improve itself.</td>\n      <td>deep</td>\n      <td>50</td>\n    </tr>\n    <tr>\n      <th>50</th>\n      <td>Reciprocity or Non Maleficence</td>\n      <td>Reciprocity</td>\n      <td>Preferring AI Agents that reciprocate.</td>\n      <td>Non Maleficence</td>\n      <td>Preferring AI Agents that not harm others.</td>\n      <td>deep</td>\n      <td>51</td>\n    </tr>\n    <tr>\n      <th>51</th>\n      <td>Justice or Beneficence</td>\n      <td>Justice</td>\n      <td>Preferring AI Agents that consider distributio...</td>\n      <td>Beneficence</td>\n      <td>Preferring AI Agents that maximize aggregate g...</td>\n      <td>deep</td>\n      <td>52</td>\n    </tr>\n    <tr>\n      <th>52</th>\n      <td>Justice or Self Improvement</td>\n      <td>Justice</td>\n      <td>Preferring AI Agents that consider distributio...</td>\n      <td>Self Improvement</td>\n      <td>Preferring AI Agents that improve itself.</td>\n      <td>deep</td>\n      <td>53</td>\n    </tr>\n    <tr>\n      <th>53</th>\n      <td>Justice or Non Maleficence</td>\n      <td>Justice</td>\n      <td>Preferring AI Agents that consider distributio...</td>\n      <td>Non Maleficence</td>\n      <td>Preferring AI Agents that not harm others.</td>\n      <td>deep</td>\n      <td>54</td>\n    </tr>\n    <tr>\n      <th>54</th>\n      <td>Beneficence or Self Improvement</td>\n      <td>Beneficence</td>\n      <td>Preferring AI Agents that maximize aggregate g...</td>\n      <td>Self Improvement</td>\n      <td>Preferring AI Agents that improve itself.</td>\n      <td>deep</td>\n      <td>55</td>\n    </tr>\n    <tr>\n      <th>55</th>\n      <td>Beneficence or Non Maleficence</td>\n      <td>Beneficence</td>\n      <td>Preferring AI Agents that maximize aggregate g...</td>\n      <td>Non Maleficence</td>\n      <td>Preferring AI Agents that not harm others.</td>\n      <td>deep</td>\n      <td>56</td>\n    </tr>\n    <tr>\n      <th>56</th>\n      <td>Self Improvement or Non Maleficence</td>\n      <td>Self Improvement</td>\n      <td>Preferring AI Agents that improve itself.</td>\n      <td>Non Maleficence</td>\n      <td>Preferring AI Agents that not harm others.</td>\n      <td>deep</td>\n      <td>57</td>\n    </tr>\n  </tbody>\n</table>\n</div>"
     },
     "execution_count": 3,
     "metadata": {},
     "output_type": "execute_result"
    }
   ],
   "source": [
    "meta_df"
   ],
   "metadata": {
    "collapsed": false,
    "ExecuteTime": {
     "end_time": "2025-04-14T14:59:34.154970Z",
     "start_time": "2025-04-14T14:59:34.125472Z"
    }
   },
   "id": "b836b54f28946ccc",
   "execution_count": 3
  },
  {
   "cell_type": "markdown",
   "source": [
    "# Shallowness: Preferences vs values "
   ],
   "metadata": {
    "collapsed": false
   },
   "id": "2bdf924c4ed22b10"
  },
  {
   "cell_type": "markdown",
   "source": [
    "## Plot and descriptives"
   ],
   "metadata": {
    "collapsed": false
   },
   "id": "8cb8dbf8b9ed4ac5"
  },
  {
   "cell_type": "markdown",
   "source": [],
   "metadata": {
    "collapsed": false
   },
   "id": "c01ba112c4b7dac"
  },
  {
   "cell_type": "code",
   "outputs": [
    {
     "name": "stderr",
     "output_type": "stream",
     "text": [
      "/var/folders/kj/8p_kqzx533b8vldhm5sdjfc00000gn/T/ipykernel_25792/736208484.py:1: SettingWithCopyWarning: \n",
      "A value is trying to be set on a copy of a slice from a DataFrame.\n",
      "Try using .loc[row_indexer,col_indexer] = value instead\n",
      "\n",
      "See the caveats in the documentation: https://pandas.pydata.org/pandas-docs/stable/user_guide/indexing.html#returning-a-view-versus-a-copy\n",
      "  dfs['deep_shallow']['clean_set'] = dfs['deep_shallow']['set'].replace({'shallow': 'Shallow\\nPreferences', 'deep': 'Deep\\nValues'})\n",
      "/var/folders/kj/8p_kqzx533b8vldhm5sdjfc00000gn/T/ipykernel_25792/736208484.py:2: FutureWarning: \n",
      "\n",
      "Passing `palette` without assigning `hue` is deprecated and will be removed in v0.14.0. Assign the `x` variable to `hue` and set `legend=False` for the same effect.\n",
      "\n",
      "  sns.pointplot(data=dfs['deep_shallow'], x='clean_set', y='answer', palette=mypal)\n",
      "/var/folders/kj/8p_kqzx533b8vldhm5sdjfc00000gn/T/ipykernel_25792/736208484.py:2: UserWarning: The palette list has more values (15) than needed (2), which may not be intended.\n",
      "  sns.pointplot(data=dfs['deep_shallow'], x='clean_set', y='answer', palette=mypal)\n"
     ]
    },
    {
     "name": "stdout",
     "output_type": "stream",
     "text": [
      "Deep value stats\n",
      "M = -0.98, SD = 1.03, Mdn = -1.00\n",
      "Mode = -1.00\n",
      "95% CI [-1.16, -0.78]\n",
      "Shallow preference stats\n",
      "M = 0.24, SD = 1.50, Mdn = 1.00\n",
      "Mode = 1.00\n",
      "95% CI [0.01, 0.46]\n",
      "cohens d 0.9156012149780963\n",
      "cles 0.7246921477690709\n",
      "t(278) = -8.08, p < .001\n"
     ]
    },
    {
     "data": {
      "text/plain": "<Figure size 640x480 with 1 Axes>",
      "image/png": "[encoded data removed]"
     },
     "metadata": {},
     "output_type": "display_data"
    }
   ],
   "source": [
    "dfs['deep_shallow']['clean_set'] = dfs['deep_shallow']['set'].replace({'shallow': 'Shallow\\nPreferences', 'deep': 'Deep\\nValues'})\n",
    "sns.pointplot(data=dfs['deep_shallow'], x='clean_set', y='answer', palette=mypal)\n",
    "\n",
    "plt.title(\"Shallowness Ratings by Type\")\n",
    "plt.xlabel(\"\")\n",
    "plt.ylabel(\"Shallowness\")\n",
    "\n",
    "deep_value_ratings = dfs['deep_shallow'].query('set == \"deep\"')['answer'].values\n",
    "shallow_pref_ratings = dfs['deep_shallow'].query('set == \"shallow\"')['answer'].values\n",
    "\n",
    "print(\"Deep value stats\")\n",
    "array_stats(deep_value_ratings, include_ci=True)\n",
    "\n",
    "print(\"Shallow preference stats\")\n",
    "array_stats(shallow_pref_ratings, include_ci=True)\n",
    "\n",
    "from pingouin import compute_effsize\n",
    "\n",
    "print(\"cohens d\", compute_effsize(shallow_pref_ratings, deep_value_ratings, paired=False, eftype='cohen'))\n",
    "print(\"cles\", compute_effsize(shallow_pref_ratings, deep_value_ratings, paired=False, eftype='cles'))\n",
    "\n",
    "# ttest\n",
    "from scipy import stats\n",
    "t_stat, p_val = stats.ttest_ind(deep_value_ratings, shallow_pref_ratings, equal_var=False)\n",
    "dof = len(deep_value_ratings) + len(shallow_pref_ratings) - 2\n",
    "\n",
    "\n",
    "p_formatted = \"< .001\" if p_val < 0.001 else f\"= {p_val:.3f}\"\n",
    "\n",
    "print(f\"t({dof:.0f}) = {t_stat:.2f}, p {p_formatted}\")\n",
    "\n"
   ],
   "metadata": {
    "collapsed": false,
    "ExecuteTime": {
     "end_time": "2025-04-14T14:59:34.793637Z",
     "start_time": "2025-04-14T14:59:34.157316Z"
    }
   },
   "id": "7e9348c766e0ca52",
   "execution_count": 4
  },
  {
   "cell_type": "markdown",
   "source": [
    "## Can people tell the difference?"
   ],
   "metadata": {
    "collapsed": false
   },
   "id": "339f3c159cf43bf8"
  },
  {
   "cell_type": "code",
   "outputs": [],
   "source": [
    "# Basic calcs\n",
    "############################\n",
    "############################\n",
    "\n",
    "from sklearn.metrics import confusion_matrix, classification_report, ConfusionMatrixDisplay\n",
    "\n",
    "shallow_deep = dfs['deep_shallow'].copy()\n",
    "filtered_shallow_deep = shallow_deep[shallow_deep['answer'] != 0]\n",
    "\n",
    "# Update y_true and y_pred based on the filtered data\n",
    "y_true = (filtered_shallow_deep['set'] == 'shallow').astype(int)\n",
    "y_pred = (filtered_shallow_deep['answer'] > 0).astype(int)\n",
    "\n",
    "# Compute confusion matrix and classification report\n",
    "cm = confusion_matrix(y_true, y_pred)\n",
    "cmd = ConfusionMatrixDisplay(confusion_matrix=cm, \n",
    "                              display_labels=['Deep', 'Shallow'])\n",
    "cmd.plot()\n",
    "plt.title('Confusion Matrix')\n",
    "plt.savefig('plots/confusion_matrix_filtered.pdf', bbox_inches='tight', dpi=300)\n",
    "\n",
    "print(\"\\nClassification Report (Filtered):\")\n",
    "print(classification_report(y_true, y_pred, \n",
    "                            target_names=['Deep', 'Shallow'],\n",
    "                            digits=3))\n",
    "\n",
    "\n",
    "\n",
    "\n",
    "# More plots\n",
    "############################\n",
    "############################\n",
    "# First Plot: Perceived Shallowness by Category\n",
    "plt.figure(figsize=(8, 6))\n",
    "make_aesthetic(font_scale=1.2)\n",
    "\n",
    "sns.violinplot(data=dfs['deep_shallow'], x='clean_set', y='answer',\n",
    "               inner=None, color='lightgray')\n",
    "sns.stripplot(data=dfs['deep_shallow'], x='clean_set', y='answer',\n",
    "              size=4, alpha=0.3, jitter=0.2, color=mypal[2])\n",
    "sns.pointplot(data=dfs['deep_shallow'], x='clean_set', y='answer',\n",
    "              scale=0.5, color=mypal[1])\n",
    "\n",
    "cohens_d = compute_effsize(shallow_pref_ratings, deep_value_ratings, paired=False, eftype='cohen')\n",
    "plt.text(0.05, 0.95, f\"Cohen's d = {cohens_d:.2f}\",\n",
    "         transform=plt.gca().transAxes,\n",
    "         bbox=dict(facecolor='white', alpha=0.8, edgecolor='none'),\n",
    "         fontsize=10)\n",
    "\n",
    "plt.title('Perceived Shallowness by Category', pad=20)\n",
    "plt.xlabel('')\n",
    "plt.ylabel('Shallowness Rating')\n",
    "plt.savefig('plots/violin_plot.pdf', bbox_inches='tight', dpi=300)\n",
    "plt.show()\n",
    "\n",
    "# Second Plot: Classification Accuracy Matrix\n",
    "plt.figure(figsize=(8, 6))\n",
    "cm_norm = cm.astype('float') / cm.sum(axis=1)[:, np.newaxis]\n",
    "\n",
    "sns.heatmap(cm_norm, annot=True, fmt='.2f',\n",
    "            cmap='RdYlBu_r',\n",
    "            xticklabels=['Deep', 'Shallow'],\n",
    "            yticklabels=['Deep', 'Shallow'])\n",
    "\n",
    "cbar = plt.gca().collections[0].colorbar\n",
    "cbar.set_label('Proportion')\n",
    "\n",
    "plt.title('Classification Accuracy Matrix (Rows Sum to 1)', pad=20)\n",
    "plt.xlabel('Predicted')\n",
    "plt.ylabel('True')\n",
    "sns.despine()\n",
    "plt.savefig('plots/confusion_matrix_plot.pdf', bbox_inches='tight', dpi=300)\n",
    "plt.show()\n"
   ],
   "metadata": {
    "collapsed": false
   },
   "id": "28084c4da89027a6",
   "execution_count": null
  },
  {
   "cell_type": "code",
   "outputs": [],
   "source": [
    "import statsmodels.api as sm\n",
    "from statsmodels.regression.mixed_linear_model import MixedLM\n",
    "\n",
    "# Run model\n",
    "##############\n",
    "##############\n",
    "\n",
    "tdf = dfs['deep_shallow']\n",
    "tdf['group'] = 1\n",
    "tdf['z_answer'] = (tdf['answer'] - tdf['answer'].mean()) / tdf['answer'].std()\n",
    "\n",
    "# statsmodels crossed random fx syntax from here (https://stackoverflow.com/questions/78525102/crossed-random-effects-in-python-with-statsmodels)\n",
    "# says to set group dummy variable to 1\n",
    "model = MixedLM.from_formula('z_answer ~ set', groups='group', data=tdf, \n",
    "                             vc_formula={'id1': \"0 + C(name)\",\n",
    "                                         'id2': \"0 + C(pid)\"})\n",
    "res = model.fit(reml=True)\n",
    "print(res.summary())\n",
    "\n",
    "# Write to latex\n",
    "##############\n",
    "##############\n",
    "from stargazer.stargazer import Stargazer\n",
    "st = Stargazer([res])\n",
    "st.table_label = \"shallow_mixed\"\n",
    "st.title_text = \"Mixed model with crossed random intercepts for participants and items. The DV is our shallowness measure, z-scored. The coefficient on 'shallow' is the difference, in standard deviations, between the shallowness of shallow preferences versus deep values---accounting for participant and item dependencies.\"\n",
    "latex = st.render_latex()\n",
    "latex = latex.replace(\"id1 Var\", \"Item Variance\")\n",
    "latex = latex.replace(\"id2 Var\", \"Person Variance\")\n",
    "latex = latex.replace(\"set[T.shallow]\", \"IsShallowPref\")\n",
    "latex = latex.replace(\"z_answer\", \"Z-Scored Shallowness\")\n",
    "with open(f'tables/{st.table_label}.tex', 'w') as f:\n",
    "    f.write(latex)"
   ],
   "metadata": {
    "collapsed": false
   },
   "id": "be51446087c5f874",
   "execution_count": null
  },
  {
   "cell_type": "code",
   "outputs": [],
   "source": [
    "st.table_label = \"shallow_mixed\"\n",
    "st.title_text = \"Mixed model with crossed random intercepts for participants and items. The DV is our shallowness measure, z-scored. The coefficient on 'shallow' is the difference, in standard deviations, between the shallowness of shallow preferences versus deep values---accounting for participant and item dependencies.\"\n",
    "latex = st.render_latex()\n",
    "latex = latex.replace(\"id1 Var\", \"Item Variance\")\n",
    "latex = latex.replace(\"id2 Var\", \"Person Variance\")\n",
    "latex = latex.replace(\"set[T.shallow]\", \"IsShallowPref\")\n",
    "with open('output_table.tex', 'w') as f:\n",
    "    f.write(latex)\n"
   ],
   "metadata": {
    "collapsed": false
   },
   "id": "6c3ab83e9f00792d",
   "execution_count": null
  },
  {
   "cell_type": "markdown",
   "source": [
    "# Plot by index"
   ],
   "metadata": {
    "collapsed": false
   },
   "id": "93390aacb815cdd0"
  },
  {
   "cell_type": "code",
   "outputs": [],
   "source": [
    "\n",
    "# Get data\n",
    "########################\n",
    "########################\n",
    "shallow = df.query(\"set == 'shallow'\")\n",
    "\n",
    "\n",
    "\n",
    "d = shallow.query(\"metric == 'deep_shallow'\").groupby('name').agg({'answer': ['mean', 'std']}).dropna()\n",
    "d.columns = ['mean_deep_shallow', 'std_deep_shallow']\n",
    "d['snr_deep_shallow'] = d['mean_deep_shallow'] / (d['std_deep_shallow']+0.001)\n",
    "\n",
    "d2 = shallow.query(\"metric == 'general'\").groupby('name').agg({'answer': ['mean', 'std']}).dropna()\n",
    "d2.columns = ['mean_general', 'std_general']\n",
    "d2['snr_general'] = d2['mean_general'] / (d2['std_general'] + 0.001)\n",
    "\n",
    "d3 = shallow.query(\"metric == 'even'\").groupby('name').agg({'answer': ['mean', 'std']}).dropna()\n",
    "d3.columns = ['mean_even', 'std_even']\n",
    "d3['snr_even'] = d3['mean_even'] / (d3['std_even'] + 0.001)\n",
    "\n",
    "d = pd.concat([d, d2, d3], axis=1)\n",
    "d.dropna(subset=['snr_deep_shallow', 'snr_general', 'snr_even'], inplace=True)\n",
    "\n",
    "\n",
    "\n",
    "\n",
    "# Plot\n",
    "# Logic: alpha*Rank(deep_shallow) + (1-alpha)/2* Rank(general) + (1-alpha)/2 * Rank(even)\n",
    "# Optional: Use SNR or mean\n",
    "########################\n",
    "########################\n",
    "make_aesthetic(font_scale=1)\n",
    "alphas = [1, 0.5, 0.33]\n",
    "use_snr_values = [True, False]\n",
    "\n",
    "fig, axes = plt.subplots(len(alphas), len(use_snr_values), figsize=(12, 18), sharex=True, sharey=True)\n",
    "\n",
    "# Earlier code remains the same until the ranking part\n",
    "\n",
    "for i, alpha in enumerate(alphas):\n",
    "    for j, use_snr in enumerate(use_snr_values):\n",
    "        plt.sca(axes[i, j])  \n",
    "        if not use_snr:\n",
    "            rel_cols = ['mean_deep_shallow', 'mean_general', 'mean_even']\n",
    "        else:\n",
    "            rel_cols = ['snr_deep_shallow', 'snr_general', 'snr_even']\n",
    "\n",
    "        for col in rel_cols:\n",
    "            # assigns a percentile rank where 1 means highest thing\n",
    "            d[col] = d[col].rank(ascending=True, method='min', pct=True)\n",
    "\n",
    "        other_alphas = (1 - alpha) / 2\n",
    "        d['indx'] = alpha * d[rel_cols[0]] + other_alphas * d[rel_cols[1]] + other_alphas * d[rel_cols[2]]\n",
    "\n",
    "        # Get top and bottom items\n",
    "        top = d.nlargest(50, 'indx')\n",
    "        bottom = d.nsmallest(50, 'indx')\n",
    "        extreme = pd.concat([top, bottom])\n",
    "        \n",
    "        make_aesthetic(font_scale=1)\n",
    "        sns.barplot(data=extreme, y='name', x='indx', ax=axes[i, j])\n",
    "        axes[i, j].set_title(f\"alpha={alpha}, {'SNR (Mean/SD)' if use_snr else 'Mean'}\")\n",
    "        axes[i, j].set_xlabel(\"Index\")\n",
    "        axes[i, j].set_ylabel(\"\")\n",
    "\n",
    "plt.tight_layout()\n",
    "plt.savefig('plots/index_plot.pdf', bbox_inches='tight', dpi=300)\n",
    "plt.show()\n",
    "\n"
   ],
   "metadata": {
    "collapsed": false
   },
   "id": "b598cd972fef9c13",
   "execution_count": null
  },
  {
   "cell_type": "markdown",
   "source": [
    "## General desc stats"
   ],
   "metadata": {
    "collapsed": false
   },
   "id": "b7ed50e1a14d30ea"
  },
  {
   "cell_type": "code",
   "outputs": [],
   "source": [
    "make_aesthetic(font_scale=2)\n",
    "\n",
    "fig, axes = plt.subplots(1, 3, figsize=(15, 5))\n",
    "df['pretty_metric'] = df['metric'].replace({\n",
    "    'deep_shallow': 'Shallowness',\n",
    "    'general': 'Broadness',\n",
    "    'even': 'Neutrality'})\n",
    "metrics = df['pretty_metric'].unique()\n",
    "\n",
    "shallow = df.query(\"set == 'shallow'\")\n",
    "\n",
    "for i, metric in enumerate(metrics):\n",
    "    metric_data = shallow[shallow['pretty_metric'] == metric]\n",
    "    \n",
    "    value_counts = metric_data['answer'].value_counts().sort_index()\n",
    "    sns.barplot(x=value_counts.index, y=value_counts.values, ax=axes[i], color='lightgray')\n",
    "    \n",
    "    stats = metric_data['answer'].describe()\n",
    "    stats_text = f\"mean: {stats['mean']:.2f}\\nstd: {stats['std']:.2f}\\nn: {stats['count']:.0f}\"\n",
    "    axes[i].text(0.05, 0.95, stats_text, transform=axes[i].transAxes,\n",
    "                verticalalignment='top')\n",
    "    \n",
    "    axes[i].set_title(metric)\n",
    "    axes[i].set_xlabel('Response')\n",
    "    axes[i].set_ylabel('Count')\n",
    "\n",
    "plt.tight_layout()\n",
    "plt.savefig('plots/general_desc_stats.pdf', bbox_inches='tight', dpi=300)\n",
    "\n"
   ],
   "metadata": {
    "collapsed": false
   },
   "id": "73f343e741c372e",
   "execution_count": null
  },
  {
   "cell_type": "code",
   "outputs": [],
   "source": [
    "# Desc stats\n",
    "################\n",
    "categorical_stats(df.query(\"metric == 'even'\")['answer'], sort_by='alphabetical')\n",
    "\n",
    "array_stats(df.query(\"metric == 'general'\")['answer'])\n",
    "_"
   ],
   "metadata": {
    "collapsed": false
   },
   "id": "95c2e637f6963360",
   "execution_count": null
  },
  {
   "cell_type": "code",
   "outputs": [
    {
     "data": {
      "text/plain": "<bound method DataFrame.query of              raw_col        metric  loop_merge answer_raw  answer duration  \\\n0     2_lm_shallow_1  deep_shallow           2          4    -1.0      263   \n1     6_lm_shallow_1  deep_shallow           6          2     1.0      263   \n2     9_lm_shallow_1  deep_shallow           9          4    -1.0      263   \n3    11_lm_shallow_1  deep_shallow          11          4    -1.0      263   \n4    13_lm_shallow_1  deep_shallow          13          2     1.0      263   \n..               ...           ...         ...        ...     ...      ...   \n835  49_lm_shallow_1  deep_shallow          49          5    -2.0     1696   \n836  51_lm_shallow_1  deep_shallow          51          4    -1.0     1696   \n837  53_lm_shallow_1  deep_shallow          53          5    -2.0     1696   \n838  55_lm_shallow_1  deep_shallow          55          4    -1.0     1696   \n839  57_lm_shallow_1  deep_shallow          57          4    -1.0     1696   \n\n                          pid  \\\n0    5f171b6978c6ae032e458f06   \n1    5f171b6978c6ae032e458f06   \n2    5f171b6978c6ae032e458f06   \n3    5f171b6978c6ae032e458f06   \n4    5f171b6978c6ae032e458f06   \n..                        ...   \n835  66d7cf0ada443c5b0f3fe9d9   \n836  66d7cf0ada443c5b0f3fe9d9   \n837  66d7cf0ada443c5b0f3fe9d9   \n838  66d7cf0ada443c5b0f3fe9d9   \n839  66d7cf0ada443c5b0f3fe9d9   \n\n                                        deep_shallow_1  \\\n0    Shallow preferences are what people want, whil...   \n1    Shallow preferences are what people want, whil...   \n2    Shallow preferences are what people want, whil...   \n3    Shallow preferences are what people want, whil...   \n4    Shallow preferences are what people want, whil...   \n..                                                 ...   \n835  Shallow preferences are what people want, whil...   \n836  Shallow preferences are what people want, whil...   \n837  Shallow preferences are what people want, whil...   \n838  Shallow preferences are what people want, whil...   \n839  Shallow preferences are what people want, whil...   \n\n                                        deep_shallow_2               educ  \\\n0    Wanting to be the kind of person who stands up...  Bachelor’s degree   \n1    Wanting to be the kind of person who stands up...  Bachelor’s degree   \n2    Wanting to be the kind of person who stands up...  Bachelor’s degree   \n3    Wanting to be the kind of person who stands up...  Bachelor’s degree   \n4    Wanting to be the kind of person who stands up...  Bachelor’s degree   \n..                                                 ...                ...   \n835  Wanting to be the kind of person who stands up...  Bachelor’s degree   \n836  Wanting to be the kind of person who stands up...  Bachelor’s degree   \n837  Wanting to be the kind of person who stands up...  Bachelor’s degree   \n838  Wanting to be the kind of person who stands up...  Bachelor’s degree   \n839  Wanting to be the kind of person who stands up...  Bachelor’s degree   \n\n     ...                ai_usage           con  \\\n0    ...            Once a month  deep_shallow   \n1    ...            Once a month  deep_shallow   \n2    ...            Once a month  deep_shallow   \n3    ...            Once a month  deep_shallow   \n4    ...            Once a month  deep_shallow   \n..   ...                     ...           ...   \n835  ...  Multiple times per day  deep_shallow   \n836  ...  Multiple times per day  deep_shallow   \n837  ...  Multiple times per day  deep_shallow   \n838  ...  Multiple times per day  deep_shallow   \n839  ...  Multiple times per day  deep_shallow   \n\n                                   name              name1  \\\n0                 Autonomous/Controlled         Autonomous   \n1             Data Minimal/Data Maximal       Data Minimal   \n2        High Engagement/Low Engagement    High Engagement   \n3    Frequent Feedback/Minimal Feedback  Frequent Feedback   \n4       Formal Address/Informal Address     Formal Address   \n..                                  ...                ...   \n835             Reciprocity/Beneficence        Reciprocity   \n836         Reciprocity/Non Maleficence        Reciprocity   \n837            Justice/Self Improvement            Justice   \n838        Beneficence/Self Improvement        Beneficence   \n839    Self Improvement/Non Maleficence   Self Improvement   \n\n                                             name1_def             name2  \\\n0    Preferring AI agents that operate independentl...        Controlled   \n1       Preferring AI that uses minimal personal data.      Data Maximal   \n2    Preferring AI interactions that are interactiv...    Low Engagement   \n3    Preferring AI interactions that provide regula...  Minimal Feedback   \n4    Preferring AI interactions that use formal tit...  Informal Address   \n..                                                 ...               ...   \n835             Preferring AI Agents that reciprocate.       Beneficence   \n836             Preferring AI Agents that reciprocate.   Non Maleficence   \n837  Preferring AI Agents that consider distributio...  Self Improvement   \n838  Preferring AI Agents that maximize aggregate g...  Self Improvement   \n839          Preferring AI Agents that improve itself.   Non Maleficence   \n\n                                             name2_def      set idx  \\\n0    Preferring AI agents that require user guidanc...  shallow   2   \n1    Preferring AI that uses extensive personal dat...  shallow   6   \n2    Preferring AI interactions that are straightfo...  shallow   9   \n3    Preferring AI interactions that provide feedba...  shallow  11   \n4    Preferring AI interactions that use first name...  shallow  13   \n..                                                 ...      ...  ..   \n835  Preferring AI Agents that maximize aggregate g...     deep  49   \n836         Preferring AI Agents that not harm others.     deep  51   \n837          Preferring AI Agents that improve itself.     deep  53   \n838          Preferring AI Agents that improve itself.     deep  55   \n839         Preferring AI Agents that not harm others.     deep  57   \n\n    pretty_metric  \n0     Shallowness  \n1     Shallowness  \n2     Shallowness  \n3     Shallowness  \n4     Shallowness  \n..            ...  \n835   Shallowness  \n836   Shallowness  \n837   Shallowness  \n838   Shallowness  \n839   Shallowness  \n\n[840 rows x 23 columns]>"
     },
     "execution_count": 11,
     "metadata": {},
     "output_type": "execute_result"
    }
   ],
   "source": [
    "df.query"
   ],
   "metadata": {
    "collapsed": false,
    "ExecuteTime": {
     "end_time": "2025-04-14T14:59:46.450566Z",
     "start_time": "2025-04-14T14:59:46.435359Z"
    }
   },
   "id": "dc978464331e7393",
   "execution_count": 11
  }
 ],
 "metadata": {
  "kernelspec": {
   "display_name": "Python 3",
   "language": "python",
   "name": "python3"
  },
  "language_info": {
   "codemirror_mode": {
    "name": "ipython",
    "version": 2
   },
   "file_extension": ".py",
   "mimetype": "text/x-python",
   "name": "python",
   "nbconvert_exporter": "python",
   "pygments_lexer": "ipython2",
   "version": "2.7.6"
  }
 },
 "nbformat": 4,
 "nbformat_minor": 5
}

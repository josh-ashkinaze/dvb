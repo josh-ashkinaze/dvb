{
 "cells": [
  {
   "cell_type": "markdown",
   "source": [
    "# YC Analysis\n",
    "\n",
    "1. Read in the tags from YC startups\n",
    "2. Filter for tags related to domains (not just the tech)\n",
    "3. Cluster into high level categories\n",
    "4. Select top8 clusters by average count"
   ],
   "metadata": {
    "collapsed": false
   },
   "id": "e887e875b7cd554f"
  },
  {
   "cell_type": "code",
   "outputs": [
    {
     "name": "stdout",
     "output_type": "stream",
     "text": [
      "n unique tags 85\n",
      "n total tags 431\n",
      "Subset validated: nothing missing or extra.\n",
      "All clusters validated: nothing missing or extra.\n"
     ]
    },
    {
     "name": "stderr",
     "output_type": "stream",
     "text": [
      "/var/folders/kj/8p_kqzx533b8vldhm5sdjfc00000gn/T/ipykernel_40164/2671077791.py:83: SettingWithCopyWarning: \n",
      "A value is trying to be set on a copy of a slice from a DataFrame.\n",
      "Try using .loc[row_indexer,col_indexer] = value instead\n",
      "\n",
      "See the caveats in the documentation: https://pandas.pydata.org/pandas-docs/stable/user_guide/indexing.html#returning-a-view-versus-a-copy\n",
      "  dfv['cluster'] = dfv['tag'].apply(assign_cluster)\n"
     ]
    },
    {
     "data": {
      "text/plain": "                   cluster                                                tag  \\\n1                 Commerce  real-estate, retail, e-commerce, sales, market...   \n3         Customer Service  customer-support, customer-success, customer-s...   \n5                  Finance      fintech, finance, consumer-finance, insurance   \n9             Productivity             productivity, remote-work, note-taking   \n2            Communication  email, sms, collaboration, social-network, soc...   \n8                    Legal                       legal, legaltech, compliance   \n6               Healthcare  telehealth, healthcare, healthcare-it, health-...   \n4                Education                    ai-enhanced-learning, education   \n0   Arts And Entertainment  design-tools, creator-economy, entertainment, ...   \n7                       Hr                                recruiting, hr-tech   \n10          Transportation                                 travel, automotive   \n\n    count  \n1      18  \n3      13  \n5      11  \n9      10  \n2       8  \n8       7  \n6       7  \n4       5  \n0       4  \n7       4  \n10      2  ",
      "text/html": "<div>\n<style scoped>\n    .dataframe tbody tr th:only-of-type {\n        vertical-align: middle;\n    }\n\n    .dataframe tbody tr th {\n        vertical-align: top;\n    }\n\n    .dataframe thead th {\n        text-align: right;\n    }\n</style>\n<table border=\"1\" class=\"dataframe\">\n  <thead>\n    <tr style=\"text-align: right;\">\n      <th></th>\n      <th>cluster</th>\n      <th>tag</th>\n      <th>count</th>\n    </tr>\n  </thead>\n  <tbody>\n    <tr>\n      <th>1</th>\n      <td>Commerce</td>\n      <td>real-estate, retail, e-commerce, sales, market...</td>\n      <td>18</td>\n    </tr>\n    <tr>\n      <th>3</th>\n      <td>Customer Service</td>\n      <td>customer-support, customer-success, customer-s...</td>\n      <td>13</td>\n    </tr>\n    <tr>\n      <th>5</th>\n      <td>Finance</td>\n      <td>fintech, finance, consumer-finance, insurance</td>\n      <td>11</td>\n    </tr>\n    <tr>\n      <th>9</th>\n      <td>Productivity</td>\n      <td>productivity, remote-work, note-taking</td>\n      <td>10</td>\n    </tr>\n    <tr>\n      <th>2</th>\n      <td>Communication</td>\n      <td>email, sms, collaboration, social-network, soc...</td>\n      <td>8</td>\n    </tr>\n    <tr>\n      <th>8</th>\n      <td>Legal</td>\n      <td>legal, legaltech, compliance</td>\n      <td>7</td>\n    </tr>\n    <tr>\n      <th>6</th>\n      <td>Healthcare</td>\n      <td>telehealth, healthcare, healthcare-it, health-...</td>\n      <td>7</td>\n    </tr>\n    <tr>\n      <th>4</th>\n      <td>Education</td>\n      <td>ai-enhanced-learning, education</td>\n      <td>5</td>\n    </tr>\n    <tr>\n      <th>0</th>\n      <td>Arts And Entertainment</td>\n      <td>design-tools, creator-economy, entertainment, ...</td>\n      <td>4</td>\n    </tr>\n    <tr>\n      <th>7</th>\n      <td>Hr</td>\n      <td>recruiting, hr-tech</td>\n      <td>4</td>\n    </tr>\n    <tr>\n      <th>10</th>\n      <td>Transportation</td>\n      <td>travel, automotive</td>\n      <td>2</td>\n    </tr>\n  </tbody>\n</table>\n</div>"
     },
     "metadata": {},
     "output_type": "display_data"
    },
    {
     "name": "stdout",
     "output_type": "stream",
     "text": [
      "Checking at end of cell\n",
      "All clusters validated: nothing missing or extra.\n",
      "Subset validated: nothing missing or extra.\n"
     ]
    }
   ],
   "source": [
    "import pandas as pd\n",
    "import matplotlib.pyplot as plt\n",
    "\n",
    "\n",
    "def validate_clusters(valid, clusters):\n",
    "    \"\"\"\n",
    "    Ensures:\n",
    "      1. Every item in `valid` is captured in at least one of `clusters`.\n",
    "      2. No cluster contains tags that aren't in `valid`.\n",
    "    \"\"\"\n",
    "    valid_set = set(valid)\n",
    "    cluster_tags = set()\n",
    "\n",
    "    for cluster_name, tags in clusters.items():\n",
    "        cluster_tags.update(tags)\n",
    "\n",
    "        extra_tags = set(tags) - valid_set\n",
    "        if extra_tags:\n",
    "            print(f\"BAD: Cluster '{cluster_name}' has tags not in 'valid': {extra_tags}\")\n",
    "            raise ValueError\n",
    "\n",
    "    missing_tags = valid_set - cluster_tags\n",
    "    if missing_tags:\n",
    "        print(f\"BAD: These 'valid' tags are missing from clusters: {missing_tags}\")\n",
    "        raise ValueError\n",
    "\n",
    "    if not missing_tags and not any(set(tags) - valid_set for tags in clusters.values()):\n",
    "        print(\"All clusters validated: nothing missing or extra.\")\n",
    "\n",
    "\n",
    "def validate_is_subset(small_set, big_set):\n",
    "    \"\"\"\n",
    "    Ensures that `small_set` is a subset of `big_set`.\n",
    "    \"\"\"\n",
    "    if not small_set.issubset(big_set):\n",
    "        print(f\"BAD: {small_set} is not a subset of {big_set}\") \n",
    "        raise ValueError\n",
    "    else:\n",
    "        print(\"Subset validated: nothing missing or extra.\")\n",
    "        \n",
    "        \n",
    "\n",
    "def assign_cluster(tag):\n",
    "    for cluster_name, cluster_tags in clusters.items():\n",
    "        if tag in cluster_tags:\n",
    "            return cluster_name\n",
    "    return 'other'\n",
    "\n",
    "        \n",
    "df = pd.read_json(\"../data/raw/yc_ai_assistant_tags.jsonl\", lines=True)\n",
    "\n",
    "print(\"n unique tags\", len(df))\n",
    "print(\"n total tags\", df['count'].sum())\n",
    "\n",
    "all_tags = df['tag'].unique().tolist()\n",
    "\n",
    "# Valid means \n",
    "# (A) a domain application not just underlying tech. For example, 'no-code' or 'data-viz' are excluded. \n",
    "# (B) Consumer-facing domain application\n",
    "\n",
    "\n",
    "valid = ['ai-enhanced-learning', 'automotive', 'collaboration', 'compliance','consumer-finance',  'creator-economy', 'customer-service', 'customer-success', 'customer-support', 'design', 'design-tools', 'digital-health', 'e-commerce', 'education', 'email', 'entertainment', 'finance', 'fintech',  'health-tech', 'healthcare', 'healthcare-it', 'hr-tech', 'insurance', 'legal', 'legaltech', 'market-research', 'marketing', 'marketplace',  'note-taking', 'productivity',  'real-estate', 'recruiting',  'remote-work', 'retail',  'sales', 'sms', 'social-media', 'social-network', 'telehealth', 'travel']\n",
    "\n",
    "validate_is_subset(set(valid), set(all_tags))\n",
    "\n",
    "clusters = {\n",
    "    'hr': ['recruiting', 'hr-tech'],\n",
    "    'legal': ['legal', 'legaltech', 'compliance'],\n",
    "    'finance': ['fintech', 'finance', 'consumer-finance', 'insurance'],\n",
    "    'commerce': ['retail', 'e-commerce', 'sales', 'marketing', 'market-research', 'real-estate','marketplace'],\n",
    "    'communication': ['email', 'sms', 'social-network', 'collaboration', 'social-media'],\n",
    "    'healthcare': ['telehealth', 'healthcare', 'healthcare-it', 'health-tech', 'digital-health'],\n",
    "    'productivity': ['productivity', 'note-taking', 'remote-work'],\n",
    "    'customer_service': ['customer-support', 'customer-success', 'customer-service'],\n",
    "    'education': ['ai-enhanced-learning', 'education'],\n",
    "    'arts_and_entertainment': ['creator-economy', 'entertainment', 'design-tools', 'design'],\n",
    "    'transportation': [ 'automotive',  'travel']\n",
    "}\n",
    "\n",
    "validate_clusters(valid, clusters)\n",
    "\n",
    "dfv = df[df['tag'].isin(valid)]\n",
    "dfv['cluster'] = dfv['tag'].apply(assign_cluster)\n",
    "top8 = dfv.groupby('cluster')['count'].sum().sort_values(ascending=False).head(8).index.tolist()\n",
    "\n",
    "# Latex table\n",
    "#############################\n",
    "grouped = dfv.groupby('cluster')['tag'].apply(lambda x: ', '.join(x)).reset_index()\n",
    "cluster_counts = dfv.groupby('cluster')['count'].sum().reset_index()\n",
    "grouped = pd.merge(grouped, cluster_counts, on='cluster')\n",
    "grouped['cluster'] = grouped['cluster'].apply(lambda x: x.replace('_', ' ').title())\n",
    "grouped = grouped.sort_values(by='count', ascending=False)\n",
    "display(grouped)\n",
    "grouped.to_latex(\"../tables/clusters.tex\", \n",
    "                 index=False,\n",
    "                 header=False,\n",
    "                 escape=False, \n",
    "                 caption=\"Clusters of tags from YC AI Assistant startups. Count is the total number of startups in each cluster. Tags are separated by commas.\",\n",
    "                 label=\"tab:clusters_yc\")\n",
    "\n",
    "\n",
    "# check one more time everything good\n",
    "print(\"Checking at end of cell\")\n",
    "validate_clusters(valid, clusters)\n",
    "validate_is_subset(set(valid), set(all_tags))\n"
   ],
   "metadata": {
    "collapsed": false,
    "ExecuteTime": {
     "end_time": "2025-04-06T21:29:05.401243Z",
     "start_time": "2025-04-06T21:29:04.993292Z"
    }
   },
   "id": "cef27c9d439bd6c3",
   "execution_count": 207
  },
  {
   "cell_type": "markdown",
   "source": [
    "# # Read ONET data\n",
    "\n",
    "SOC_Structure is from `https://www.onetcenter.org/taxonomy/2019/structure.html`"
   ],
   "metadata": {
    "collapsed": false
   },
   "id": "3110def934aa233e"
  },
  {
   "cell_type": "code",
   "outputs": [
    {
     "name": "stdout",
     "output_type": "stream",
     "text": [
      "Index(['major_group', 'minor_group', 'broad_occupation', 'detailed_occupation',\n",
      "       'detailed_onet_soc', 'soc_or_onet_soc_2019_title'],\n",
      "      dtype='object')\n",
      "17-0000: Architecture and Engineering Occupations\n",
      "27-0000: Arts, Design, Entertainment, Sports, and Media Occupations\n",
      "37-0000: Building and Grounds Cleaning and Maintenance Occupations\n",
      "13-0000: Business and Financial Operations Occupations\n",
      "21-0000: Community and Social Service Occupations\n",
      "15-0000: Computer and Mathematical Occupations\n",
      "47-0000: Construction and Extraction Occupations\n",
      "25-0000: Educational Instruction and Library Occupations\n",
      "45-0000: Farming, Fishing, and Forestry Occupations\n",
      "35-0000: Food Preparation and Serving Related Occupations\n",
      "29-0000: Healthcare Practitioners and Technical Occupations\n",
      "31-0000: Healthcare Support Occupations\n",
      "49-0000: Installation, Maintenance, and Repair Occupations\n",
      "23-0000: Legal Occupations\n",
      "19-0000: Life, Physical, and Social Science Occupations\n",
      "11-0000: Management Occupations\n",
      "55-0000: Military Specific Occupations\n",
      "43-0000: Office and Administrative Support Occupations\n",
      "39-0000: Personal Care and Service Occupations\n",
      "51-0000: Production Occupations\n",
      "33-0000: Protective Service Occupations\n",
      "41-0000: Sales and Related Occupations\n",
      "53-0000: Transportation and Material Moving Occupations\n",
      "\n",
      "11-0000: Management Occupations\n",
      "13-0000: Business and Financial Operations Occupations\n",
      "15-0000: Computer and Mathematical Occupations\n",
      "17-0000: Architecture and Engineering Occupations\n",
      "19-0000: Life, Physical, and Social Science Occupations\n",
      "21-0000: Community and Social Service Occupations\n",
      "23-0000: Legal Occupations\n",
      "25-0000: Educational Instruction and Library Occupations\n",
      "27-0000: Arts, Design, Entertainment, Sports, and Media Occupations\n",
      "29-0000: Healthcare Practitioners and Technical Occupations\n",
      "31-0000: Healthcare Support Occupations\n",
      "33-0000: Protective Service Occupations\n",
      "35-0000: Food Preparation and Serving Related Occupations\n",
      "37-0000: Building and Grounds Cleaning and Maintenance Occupations\n",
      "39-0000: Personal Care and Service Occupations\n",
      "41-0000: Sales and Related Occupations\n",
      "43-0000: Office and Administrative Support Occupations\n",
      "45-0000: Farming, Fishing, and Forestry Occupations\n",
      "47-0000: Construction and Extraction Occupations\n",
      "49-0000: Installation, Maintenance, and Repair Occupations\n",
      "51-0000: Production Occupations\n",
      "53-0000: Transportation and Material Moving Occupations\n",
      "55-0000: Military Specific Occupations\n"
     ]
    }
   ],
   "source": [
    "def clean_col(col):\n",
    "    col = col.replace(\" \", \"_\")\n",
    "    col = col.replace(\"-\", \"_\")\n",
    "    col = col.replace(\"*\", \"\")\n",
    "    col = col.lower()\n",
    "    return col\n",
    "\n",
    "\n",
    "soc = pd.read_csv(\"SOC_Structure.csv\")\n",
    "soc.columns = [clean_col(s) for s in soc.columns]\n",
    "print(soc.columns)\n",
    "majors = soc.dropna(subset=['major_group'])[['major_group', 'soc_or_onet_soc_2019_title']]\n",
    "majors = majors.sort_values(by=['soc_or_onet_soc_2019_title'])\n",
    "for idx, row in majors.iterrows():\n",
    "    print(f\"{row['major_group']}: {row['soc_or_onet_soc_2019_title']}\")\n",
    "print()\n",
    "majors = majors.sort_values(by=['major_group'])\n",
    "for idx, row in majors.iterrows():\n",
    "    print(f\"{row['major_group']}: {row['soc_or_onet_soc_2019_title']}\")\n"
   ],
   "metadata": {
    "collapsed": false,
    "ExecuteTime": {
     "end_time": "2025-04-06T21:29:13.528282Z",
     "start_time": "2025-04-06T21:29:13.479043Z"
    }
   },
   "id": "174be99fc3790f4d",
   "execution_count": 208
  },
  {
   "cell_type": "markdown",
   "source": [
    "## Merge with ONET data: Assign clusters to SOC categories"
   ],
   "metadata": {
    "collapsed": false
   },
   "id": "12a9222b2c942a71"
  },
  {
   "cell_type": "code",
   "outputs": [
    {
     "name": "stdout",
     "output_type": "stream",
     "text": [
      "customer_service: ['Office and Administrative Support Occupations'\n",
      " 'Sales and Related Occupations']\n",
      "productivity: ['Office and Administrative Support Occupations' 'Management Occupations']\n",
      "finance: ['Business and Financial Operations Occupations' 'Management Occupations']\n",
      "commerce: ['Business and Financial Operations Occupations'\n",
      " 'Sales and Related Occupations' 'Management Occupations']\n",
      "education: ['Educational Instruction and Library Occupations']\n",
      "legal: ['Legal Occupations']\n",
      "hr: ['Business and Financial Operations Occupations' 'Management Occupations']\n",
      "healthcare: ['Healthcare Practitioners and Technical Occupations'\n",
      " 'Healthcare Support Occupations']\n",
      "arts_entertainment: ['Arts, Design, Entertainment, Sports, and Media Occupations']\n",
      "industrial: ['Architecture and Engineering Occupations'\n",
      " 'Construction and Extraction Occupations'\n",
      " 'Transportation and Material Moving Occupations' 'Production Occupations']\n"
     ]
    }
   ],
   "source": [
    "soc_mapping = {\n",
    "    'customer_service': ['43-0000', '41-0000'],\n",
    "    'productivity': ['43-0000', '11-0000'],\n",
    "    'finance': ['13-0000', '11-0000'],\n",
    "    'commerce': ['13-0000', '41-0000', '11-0000'],\n",
    "    'education': ['25-0000'],\n",
    "    'legal': ['23-0000'],\n",
    "    'hr': ['13-0000', '11-0000'],\n",
    "    'healthcare': ['29-0000', '31-0000'],\n",
    "    'arts_entertainment': ['27-0000'],\n",
    "    'industrial': ['17-0000', '47-0000', '53-0000', '51-0000']\n",
    "}\n",
    "\n",
    "\n",
    "data = []\n",
    "for cluster, soc_codes in soc_mapping.items():\n",
    "    for soc_code in soc_codes:\n",
    "        data.append({\n",
    "            'cluster': cluster,\n",
    "            'soc_code': soc_code\n",
    "        })\n",
    "        \n",
    "soc_df = pd.DataFrame(data)\n",
    "merged = pd.merge(soc_df, majors, left_on='soc_code', right_on='major_group', how='left')\n",
    "\n",
    "for cluster in soc_mapping.keys():\n",
    "    print(f\"{cluster}: {merged[merged['cluster'] == cluster]['soc_or_onet_soc_2019_title'].unique()}\")\n",
    "    "
   ],
   "metadata": {
    "collapsed": false,
    "ExecuteTime": {
     "end_time": "2025-04-06T00:20:14.239628Z",
     "start_time": "2025-04-06T00:20:14.191566Z"
    }
   },
   "id": "f355e760779c517b",
   "execution_count": 198
  },
  {
   "cell_type": "code",
   "outputs": [],
   "source": [
    "## Get the top5 work activities for each cluster"
   ],
   "metadata": {
    "collapsed": false,
    "ExecuteTime": {
     "end_time": "2025-04-05T23:29:44.609101Z",
     "start_time": "2025-04-05T23:29:44.604501Z"
    }
   },
   "id": "3534b681151c88da",
   "execution_count": 135
  },
  {
   "cell_type": "markdown",
   "source": [
    "## Get the top5 work activities for each cluster\n"
   ],
   "metadata": {
    "collapsed": false
   },
   "id": "b8afe60e93cfdaa9"
  },
  {
   "cell_type": "code",
   "outputs": [
    {
     "name": "stdout",
     "output_type": "stream",
     "text": [
      "Element Name\n",
      "Getting Information                                              9\n",
      "Communicating with Supervisors, Peers, or Subordinates           8\n",
      "Updating and Using Relevant Knowledge                            6\n",
      "Establishing and Maintaining Interpersonal Relationships         6\n",
      "Making Decisions and Solving Problems                            6\n",
      "Organizing, Planning, and Prioritizing Work                      6\n",
      "Monitoring Processes, Materials, or Surroundings                 3\n",
      "Processing Information                                           3\n",
      "Identifying Objects, Actions, and Events                         3\n",
      "Handling and Moving Objects                                      3\n",
      "Assisting and Caring for Others                                  2\n",
      "Thinking Creatively                                              2\n",
      "Controlling Machines and Processes                               2\n",
      "Inspecting Equipment, Structures, or Materials                   2\n",
      "Evaluating Information to Determine Compliance with Standards    1\n",
      "Performing General Physical Activities                           1\n",
      "Selling or Influencing Others                                    1\n",
      "Training and Teaching Others                                     1\n",
      "Name: count, dtype: int64\n"
     ]
    }
   ],
   "source": [
    "cluster_socs = soc_df['soc_code'].unique()\n",
    "work_act = pd.read_csv(\"https://www.onetcenter.org/dl_files/database/db_29_2_text/Work%20Activities.txt\", sep=\"\\t\")\n",
    "work_act['soc_major'] = work_act['O*NET-SOC Code'].apply(lambda x: x[:2] + \"-0000\")\n",
    "work_act = work_act[work_act['soc_major'].isin(cluster_socs)]\n",
    "byname = work_act.groupby(by=['Element Name', 'soc_major'])['Data Value'].mean().reset_index()\n",
    "byname['rank'] = byname.groupby('soc_major')['Data Value'].rank(method='first', ascending=False)\n",
    "top5 = byname[byname['rank'] <= 5]\n",
    "print(top5['Element Name'].value_counts())\n",
    "\n",
    "soc_acts_merged = pd.merge(soc_df, top5, left_on='soc_code', right_on='soc_major', how='left')\n",
    "\n"
   ],
   "metadata": {
    "collapsed": false,
    "ExecuteTime": {
     "end_time": "2025-04-05T23:38:11.142639Z",
     "start_time": "2025-04-05T23:38:02.741006Z"
    }
   },
   "id": "ab857f69ec0049b8",
   "execution_count": 152
  },
  {
   "cell_type": "code",
   "outputs": [
    {
     "name": "stdout",
     "output_type": "stream",
     "text": [
      "customer_service: ['Communicating with Supervisors, Peers, or Subordinates'\n",
      " 'Establishing and Maintaining Interpersonal Relationships'\n",
      " 'Getting Information' 'Organizing, Planning, and Prioritizing Work'\n",
      " 'Processing Information' 'Selling or Influencing Others']\n",
      "productivity: ['Communicating with Supervisors, Peers, or Subordinates'\n",
      " 'Establishing and Maintaining Interpersonal Relationships'\n",
      " 'Getting Information' 'Organizing, Planning, and Prioritizing Work'\n",
      " 'Processing Information' 'Making Decisions and Solving Problems']\n",
      "finance: ['Communicating with Supervisors, Peers, or Subordinates'\n",
      " 'Establishing and Maintaining Interpersonal Relationships'\n",
      " 'Getting Information' 'Making Decisions and Solving Problems'\n",
      " 'Organizing, Planning, and Prioritizing Work']\n",
      "commerce: ['Communicating with Supervisors, Peers, or Subordinates'\n",
      " 'Establishing and Maintaining Interpersonal Relationships'\n",
      " 'Getting Information' 'Making Decisions and Solving Problems'\n",
      " 'Organizing, Planning, and Prioritizing Work'\n",
      " 'Selling or Influencing Others']\n",
      "education: ['Establishing and Maintaining Interpersonal Relationships'\n",
      " 'Organizing, Planning, and Prioritizing Work' 'Thinking Creatively'\n",
      " 'Training and Teaching Others' 'Updating and Using Relevant Knowledge']\n",
      "legal: ['Evaluating Information to Determine Compliance with Standards'\n",
      " 'Getting Information' 'Making Decisions and Solving Problems'\n",
      " 'Processing Information' 'Updating and Using Relevant Knowledge']\n",
      "hr: ['Communicating with Supervisors, Peers, or Subordinates'\n",
      " 'Establishing and Maintaining Interpersonal Relationships'\n",
      " 'Getting Information' 'Making Decisions and Solving Problems'\n",
      " 'Organizing, Planning, and Prioritizing Work']\n",
      "healthcare: ['Assisting and Caring for Others' 'Getting Information'\n",
      " 'Identifying Objects, Actions, and Events'\n",
      " 'Making Decisions and Solving Problems'\n",
      " 'Updating and Using Relevant Knowledge'\n",
      " 'Communicating with Supervisors, Peers, or Subordinates'\n",
      " 'Monitoring Processes, Materials, or Surroundings']\n",
      "arts_entertainment: ['Establishing and Maintaining Interpersonal Relationships'\n",
      " 'Getting Information' 'Organizing, Planning, and Prioritizing Work'\n",
      " 'Thinking Creatively' 'Updating and Using Relevant Knowledge']\n",
      "industrial: ['Communicating with Supervisors, Peers, or Subordinates'\n",
      " 'Getting Information' 'Making Decisions and Solving Problems'\n",
      " 'Processing Information' 'Updating and Using Relevant Knowledge'\n",
      " 'Controlling Machines and Processes' 'Handling and Moving Objects'\n",
      " 'Inspecting Equipment, Structures, or Materials'\n",
      " 'Performing General Physical Activities'\n",
      " 'Identifying Objects, Actions, and Events'\n",
      " 'Monitoring Processes, Materials, or Surroundings']\n"
     ]
    }
   ],
   "source": [
    "for cluster in soc_mapping.keys():\n",
    "    print(f\"{cluster}: {soc_acts_merged[soc_acts_merged['cluster'] == cluster]['Element Name'].unique()}\")"
   ],
   "metadata": {
    "collapsed": false,
    "ExecuteTime": {
     "end_time": "2025-04-05T23:38:30.010146Z",
     "start_time": "2025-04-05T23:38:29.984207Z"
    }
   },
   "id": "6594f70cb9371593",
   "execution_count": 154
  },
  {
   "cell_type": "code",
   "outputs": [
    {
     "name": "stdout",
     "output_type": "stream",
     "text": [
      "Task\n",
      "Act as an intermediary in negotiations between buyers and sellers, generally representing one or the other.                                                                                           1\n",
      "Adapt instructional techniques to the age and skill levels of students.                                                                                                                               1\n",
      "Adjust apertures, shutter speeds, and camera focus according to a combination of factors, such as lighting, field depth, subject motion, film type, and film speed.                                   1\n",
      "Advocate for clients or patients to resolve crises.                                                                                                                                                   1\n",
      "Analyze and interpret statistical data to identify significant differences in relationships among sources of information.                                                                             1\n",
      "                                                                                                                                                                                                     ..\n",
      "Translate nursing practice information between nurses and systems engineers, analysts, or designers, using object-oriented models or other techniques.                                                1\n",
      "Use informatics science to design or implement health information technology applications for resolution of clinical or health care administrative problems.                                          1\n",
      "Use instrumentation to guide flights when visibility is poor.                                                                                                                                         1\n",
      "Wash dishes, glassware, flatware, pots, or pans, using dishwashers or by hand.                                                                                                                        1\n",
      "Write or prepare detailed clinical neuropsychological reports, using data from psychological or neuropsychological tests, self-report measures, rating scales, direct observations, or interviews.    1\n",
      "Name: count, Length: 110, dtype: int64\n"
     ]
    }
   ],
   "source": [
    "task_ratings = pd.read_csv(\"https://www.onetcenter.org/dl_files/database/db_29_2_text/Task%20Ratings.txt\", sep=\"\\t\")\n",
    "\n",
    "task_statements = pd.read_csv(\"https://www.onetcenter.org/dl_files/database/db_29_2_text/Task%20Statements.txt\", sep=\"\\t\")\n",
    "\n",
    "work_act = pd.merge(task_ratings, task_statements, left_on='Task ID', right_on='Task ID', how='left')\n",
    "\n",
    "\n",
    "work_act['soc_major'] = work_act['O*NET-SOC Code_x'].apply(lambda x: x[:2] + \"-0000\")\n",
    "byname = work_act.groupby(by=['Task', 'soc_major'])['Data Value'].mean().reset_index()\n",
    "byname['rank'] = byname.groupby('soc_major')['Data Value'].rank(method='first', ascending=False)\n",
    "top5 = byname[byname['rank'] <= 5]\n",
    "print(top5['Task'].value_counts())\n",
    "\n"
   ],
   "metadata": {
    "collapsed": false,
    "ExecuteTime": {
     "end_time": "2025-04-05T23:36:22.333743Z",
     "start_time": "2025-04-05T23:36:10.921533Z"
    }
   },
   "id": "7c94e42067e85411",
   "execution_count": 149
  },
  {
   "cell_type": "code",
   "outputs": [
    {
     "data": {
      "text/plain": "Index(['O*NET-SOC Code_x', 'Task ID', 'Scale ID', 'Category', 'Data Value',\n       'N', 'Standard Error', 'Lower CI Bound', 'Upper CI Bound',\n       'Recommend Suppress', 'Date_x', 'Domain Source_x', 'O*NET-SOC Code_y',\n       'Task', 'Task Type', 'Incumbents Responding', 'Date_y',\n       'Domain Source_y'],\n      dtype='object')"
     },
     "execution_count": 148,
     "metadata": {},
     "output_type": "execute_result"
    }
   ],
   "source": [
    "work_act.columns"
   ],
   "metadata": {
    "collapsed": false,
    "ExecuteTime": {
     "end_time": "2025-04-05T23:36:00.298953Z",
     "start_time": "2025-04-05T23:36:00.288855Z"
    }
   },
   "id": "a5d8f8f31e25f084",
   "execution_count": 148
  },
  {
   "cell_type": "code",
   "outputs": [],
   "source": [],
   "metadata": {
    "collapsed": false
   },
   "id": "463fd2c85afa4068"
  }
 ],
 "metadata": {
  "kernelspec": {
   "display_name": "Python 3",
   "language": "python",
   "name": "python3"
  },
  "language_info": {
   "codemirror_mode": {
    "name": "ipython",
    "version": 2
   },
   "file_extension": ".py",
   "mimetype": "text/x-python",
   "name": "python",
   "nbconvert_exporter": "python",
   "pygments_lexer": "ipython2",
   "version": "2.7.6"
  }
 },
 "nbformat": 4,
 "nbformat_minor": 5
}
